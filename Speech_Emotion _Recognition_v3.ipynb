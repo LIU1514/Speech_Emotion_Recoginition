{
 "cells": [
  {
   "cell_type": "markdown",
   "metadata": {},
   "source": [
    "# Speech Emotion Recognition Version 3"
   ]
  },
  {
   "cell_type": "code",
   "execution_count": 73,
   "metadata": {},
   "outputs": [],
   "source": [
    "\n",
    "import librosa\n",
    "import librosa.display\n",
    "import numpy as np\n",
    "import matplotlib.pyplot as plt\n",
    "import tensorflow as tf\n",
    "import os\n",
    "import pandas as pd\n",
    "import matplotlib.pyplot as plt\n",
    "import numpy as np\n",
    "import sys\n",
    "import glob \n",
    "import warnings\n",
    "import keras\n",
    "from keras.preprocessing import sequence\n",
    "from keras.models import Sequential\n",
    "from keras.layers import Dense, Embedding\n",
    "from keras.layers import LSTM\n",
    "from keras.preprocessing.text import Tokenizer\n",
    "from keras.preprocessing.sequence import pad_sequences\n",
    "from keras.utils import to_categorical\n",
    "from keras.layers import Input, Flatten, Dropout, Activation\n",
    "from keras.layers import Conv2D, Conv1D, MaxPooling2D, AveragePooling1D\n",
    "from keras.layers.normalization import BatchNormalization\n",
    "from keras.models import Model\n",
    "from keras import regularizers\n",
    "from keras.optimizers import Adam\n",
    "from keras.regularizers import l2\n",
    "from keras.callbacks import ModelCheckpoint\n",
    "from sklearn.preprocessing import LabelEncoder\n",
    "from sklearn.metrics import confusion_matrix\n",
    "from sklearn.utils import shuffle\n",
    "from sklearn.model_selection import train_test_split\n",
    "from sklearn.ensemble import RandomForestClassifier\n",
    "from sklearn.neighbors import KNeighborsClassifier\n",
    "from tensorflow.contrib.tensor_forest.python import tensor_forest\n",
    "from tensorflow.python.ops import resources\n",
    "from tqdm import tqdm\n",
    "from matplotlib.pyplot import specgram\n",
    "from typing import Tuple\n",
    "# import scipy.io.wavfile as wav\n",
    "# from speechpy.feature import mfcc\n",
    "warnings.filterwarnings(\"ignore\")"
   ]
  },
  {
   "cell_type": "code",
   "execution_count": 104,
   "metadata": {},
   "outputs": [],
   "source": [
    "dataList = os.listdir('data2/')\n"
   ]
  },
  {
   "cell_type": "code",
   "execution_count": 105,
   "metadata": {},
   "outputs": [],
   "source": [
    "classLabels = ('Angry', 'Fear', 'Disgust', 'Happy', 'Sad', 'Surprised', 'Neutral')"
   ]
  },
  {
   "cell_type": "code",
   "execution_count": 106,
   "metadata": {},
   "outputs": [],
   "source": [
    "data = []\n",
    "labels = []\n",
    "names = []"
   ]
  },
  {
   "cell_type": "code",
   "execution_count": 108,
   "metadata": {},
   "outputs": [
    {
     "name": "stderr",
     "output_type": "stream",
     "text": [
      "100%|██████████| 1440/1440 [02:18<00:00, 11.01it/s]\n"
     ]
    }
   ],
   "source": [
    "for number, path in enumerate(tqdm(dataList)):\n",
    "    X, sample_rate = librosa.load('data2/'+path, res_type='kaiser_best',duration=2.5,sr=22050*2,offset=0.5)\n",
    "    sample_rate = np.array(sample_rate)\n",
    "    mfccs = librosa.feature.mfcc(y=X, sr=sample_rate, n_mfcc=39)\n",
    "    feature = mfccs\n",
    "    data.append(feature)\n",
    "    \n",
    "    if path[6:8] == '01' or path[0:1] == 'n':\n",
    "        labels.append(6)\n",
    "    if path[6:8] == '02':\n",
    "        labels.append(6)\n",
    "    if path[6:8] == '03' or path[0:1] == 'h':\n",
    "        labels.append(3)\n",
    "    if path[6:8] == '04' or path[0:2] == 'sa':\n",
    "        labels.append(4)\n",
    "    if path[6:8] == '05' or path[0:1] == 'a':\n",
    "        labels.append(0)\n",
    "    if path[6:8] == '06' or path[0:1] == 'f':\n",
    "        labels.append(1)\n",
    "    if path[6:8] == '07' or path[0:1] == 'd':\n",
    "        labels.append(2)\n",
    "    if path[6:8] == '08' or path[0:2] == 'su':\n",
    "        labels.append(5)\n",
    "    \n",
    "    \n",
    "    names.append(path)\n",
    "#     break"
   ]
  },
  {
   "cell_type": "code",
   "execution_count": 109,
   "metadata": {},
   "outputs": [
    {
     "data": {
      "text/plain": [
       "(39, 216)"
      ]
     },
     "execution_count": 109,
     "metadata": {},
     "output_type": "execute_result"
    }
   ],
   "source": [
    "feature.shape"
   ]
  },
  {
   "cell_type": "code",
   "execution_count": 121,
   "metadata": {},
   "outputs": [],
   "source": [
    "DATA = np.zeros((1440,39,216))"
   ]
  },
  {
   "cell_type": "code",
   "execution_count": 122,
   "metadata": {},
   "outputs": [
    {
     "name": "stderr",
     "output_type": "stream",
     "text": [
      "\n",
      "\n",
      "  0%|          | 0/1439 [00:00<?, ?it/s]\n",
      "\n",
      "  1%|          | 13/1439 [00:00<00:11, 119.33it/s]\n",
      "\n",
      "  2%|▏         | 26/1439 [00:00<00:11, 118.10it/s]\n",
      "\n",
      "  3%|▎         | 39/1439 [00:00<00:11, 119.52it/s]\n",
      "\n",
      "  4%|▎         | 51/1439 [00:00<00:11, 117.73it/s]\n",
      "\n",
      "  4%|▍         | 64/1439 [00:00<00:11, 119.66it/s]\n",
      "\n",
      "  5%|▌         | 78/1439 [00:00<00:11, 121.08it/s]\n",
      "\n",
      "  6%|▋         | 91/1439 [00:00<00:11, 119.36it/s]\n",
      "\n",
      "  7%|▋         | 104/1439 [00:00<00:11, 117.95it/s]\n",
      "\n",
      "  8%|▊         | 117/1439 [00:00<00:11, 118.48it/s]\n",
      "\n",
      "  9%|▉         | 130/1439 [00:01<00:10, 119.05it/s]\n",
      "\n",
      " 10%|▉         | 143/1439 [00:01<00:10, 119.43it/s]\n",
      "\n",
      " 11%|█         | 156/1439 [00:01<00:10, 118.98it/s]\n",
      "\n",
      " 12%|█▏        | 168/1439 [00:01<00:10, 116.75it/s]\n",
      "\n",
      " 13%|█▎        | 180/1439 [00:01<00:10, 116.06it/s]\n",
      "\n",
      " 13%|█▎        | 194/1439 [00:01<00:10, 118.97it/s]\n",
      "\n",
      " 14%|█▍        | 207/1439 [00:01<00:10, 118.28it/s]\n",
      "\n",
      " 15%|█▌        | 219/1439 [00:01<00:10, 111.95it/s]\n",
      "\n",
      " 16%|█▌        | 231/1439 [00:01<00:10, 113.04it/s]\n",
      "\n",
      " 17%|█▋        | 245/1439 [00:02<00:10, 116.41it/s]\n",
      "\n",
      " 18%|█▊        | 257/1439 [00:02<00:10, 117.16it/s]\n",
      "\n",
      " 19%|█▊        | 269/1439 [00:02<00:09, 117.94it/s]\n",
      "\n",
      " 20%|█▉        | 281/1439 [00:02<00:09, 118.34it/s]\n",
      "\n",
      " 20%|██        | 293/1439 [00:02<00:09, 118.70it/s]\n",
      "\n",
      " 21%|██▏       | 306/1439 [00:02<00:09, 117.92it/s]\n",
      "\n",
      " 22%|██▏       | 319/1439 [00:02<00:09, 118.70it/s]\n",
      "\n",
      " 23%|██▎       | 333/1439 [00:02<00:09, 120.85it/s]\n",
      "\n",
      " 24%|██▍       | 346/1439 [00:02<00:09, 118.42it/s]\n",
      "\n",
      " 25%|██▌       | 360/1439 [00:03<00:09, 119.24it/s]\n",
      "\n",
      " 26%|██▌       | 373/1439 [00:03<00:09, 117.92it/s]\n",
      "\n",
      " 27%|██▋       | 387/1439 [00:03<00:08, 119.58it/s]\n",
      "\n",
      " 28%|██▊       | 399/1439 [00:03<00:08, 118.33it/s]\n",
      "\n",
      " 29%|██▊       | 413/1439 [00:03<00:08, 119.31it/s]\n",
      "\n",
      " 30%|██▉       | 427/1439 [00:03<00:08, 120.11it/s]\n",
      "\n",
      " 31%|███       | 441/1439 [00:03<00:08, 120.42it/s]\n",
      "\n",
      " 32%|███▏      | 454/1439 [00:03<00:08, 118.61it/s]\n",
      "\n",
      " 32%|███▏      | 467/1439 [00:03<00:08, 119.41it/s]\n",
      "\n",
      " 33%|███▎      | 481/1439 [00:04<00:07, 119.91it/s]\n",
      "\n",
      " 34%|███▍      | 494/1439 [00:04<00:08, 118.01it/s]\n",
      "\n",
      " 35%|███▌      | 508/1439 [00:04<00:07, 119.79it/s]\n",
      "\n",
      " 36%|███▌      | 520/1439 [00:04<00:07, 119.21it/s]\n",
      "\n",
      " 37%|███▋      | 532/1439 [00:04<00:07, 115.23it/s]\n",
      "\n",
      " 38%|███▊      | 546/1439 [00:04<00:07, 118.92it/s]\n",
      "\n",
      " 39%|███▉      | 558/1439 [00:04<00:07, 118.76it/s]\n",
      "\n",
      " 40%|███▉      | 570/1439 [00:04<00:07, 118.92it/s]\n",
      "\n",
      " 41%|████      | 583/1439 [00:04<00:07, 118.09it/s]\n",
      "\n",
      " 41%|████▏     | 596/1439 [00:05<00:07, 118.30it/s]\n",
      "\n",
      " 42%|████▏     | 609/1439 [00:05<00:07, 117.32it/s]\n",
      "\n",
      " 43%|████▎     | 622/1439 [00:05<00:06, 117.88it/s]\n",
      "\n",
      " 44%|████▍     | 635/1439 [00:05<00:06, 118.87it/s]\n",
      "\n",
      " 45%|████▍     | 647/1439 [00:05<00:06, 118.25it/s]\n",
      "\n",
      " 46%|████▌     | 661/1439 [00:05<00:06, 119.42it/s]\n",
      "\n",
      " 47%|████▋     | 674/1439 [00:05<00:06, 119.56it/s]\n",
      "\n",
      " 48%|████▊     | 687/1439 [00:05<00:06, 120.02it/s]\n",
      "\n",
      " 49%|████▊     | 700/1439 [00:05<00:06, 122.32it/s]\n",
      "\n",
      " 50%|████▉     | 713/1439 [00:06<00:06, 120.44it/s]\n",
      "\n",
      " 50%|█████     | 726/1439 [00:06<00:06, 118.01it/s]\n",
      "\n",
      " 51%|█████▏    | 738/1439 [00:06<00:05, 117.30it/s]\n",
      "\n",
      " 52%|█████▏    | 751/1439 [00:06<00:05, 120.09it/s]\n",
      "\n",
      " 53%|█████▎    | 764/1439 [00:06<00:05, 118.30it/s]\n",
      "\n",
      " 54%|█████▍    | 777/1439 [00:06<00:05, 119.63it/s]\n",
      "\n",
      " 55%|█████▍    | 790/1439 [00:06<00:05, 121.27it/s]\n",
      "\n",
      " 56%|█████▌    | 803/1439 [00:06<00:05, 121.34it/s]\n",
      "\n",
      " 57%|█████▋    | 816/1439 [00:06<00:05, 121.25it/s]\n",
      "\n",
      " 58%|█████▊    | 829/1439 [00:06<00:05, 121.13it/s]\n",
      "\n",
      " 59%|█████▊    | 842/1439 [00:07<00:04, 121.18it/s]\n",
      "\n",
      " 59%|█████▉    | 855/1439 [00:07<00:04, 119.05it/s]\n",
      "\n",
      " 60%|██████    | 867/1439 [00:07<00:04, 117.06it/s]\n",
      "\n",
      " 61%|██████    | 880/1439 [00:07<00:04, 119.70it/s]\n",
      "\n",
      " 62%|██████▏   | 893/1439 [00:07<00:04, 119.12it/s]\n",
      "\n",
      " 63%|██████▎   | 906/1439 [00:07<00:04, 120.29it/s]\n",
      "\n",
      " 64%|██████▍   | 919/1439 [00:07<00:04, 121.96it/s]\n",
      "\n",
      " 65%|██████▍   | 932/1439 [00:07<00:04, 120.11it/s]\n",
      "\n",
      " 66%|██████▌   | 945/1439 [00:07<00:04, 116.26it/s]\n",
      "\n",
      " 67%|██████▋   | 958/1439 [00:08<00:04, 118.05it/s]\n",
      "\n",
      " 67%|██████▋   | 970/1439 [00:08<00:04, 115.76it/s]\n",
      "\n",
      " 68%|██████▊   | 983/1439 [00:08<00:03, 118.10it/s]\n",
      "\n",
      " 69%|██████▉   | 996/1439 [00:08<00:03, 117.68it/s]\n",
      "\n",
      " 70%|███████   | 1008/1439 [00:08<00:03, 116.88it/s]\n",
      "\n",
      " 71%|███████   | 1020/1439 [00:08<00:03, 116.67it/s]\n",
      "\n",
      " 72%|███████▏  | 1034/1439 [00:08<00:03, 118.81it/s]\n",
      "\n",
      " 73%|███████▎  | 1046/1439 [00:08<00:03, 117.47it/s]\n",
      "\n",
      " 74%|███████▎  | 1058/1439 [00:08<00:03, 116.02it/s]\n",
      "\n",
      " 74%|███████▍  | 1071/1439 [00:09<00:03, 116.23it/s]\n",
      "\n",
      " 75%|███████▌  | 1084/1439 [00:09<00:03, 115.29it/s]\n",
      "\n",
      " 76%|███████▌  | 1096/1439 [00:09<00:02, 115.62it/s]\n",
      "\n",
      " 77%|███████▋  | 1108/1439 [00:09<00:02, 116.74it/s]\n",
      "\n",
      " 78%|███████▊  | 1121/1439 [00:09<00:02, 115.58it/s]\n",
      "\n",
      " 79%|███████▉  | 1134/1439 [00:09<00:02, 116.86it/s]\n",
      "\n",
      " 80%|███████▉  | 1147/1439 [00:09<00:02, 115.73it/s]\n",
      "\n",
      " 81%|████████  | 1161/1439 [00:09<00:02, 117.33it/s]\n",
      "\n",
      " 82%|████████▏ | 1173/1439 [00:09<00:02, 116.27it/s]\n",
      "\n",
      " 82%|████████▏ | 1186/1439 [00:10<00:02, 115.50it/s]\n",
      "\n",
      " 83%|████████▎ | 1199/1439 [00:10<00:02, 117.62it/s]\n",
      "\n",
      " 84%|████████▍ | 1211/1439 [00:10<00:01, 114.99it/s]\n",
      "\n",
      " 85%|████████▍ | 1223/1439 [00:10<00:01, 115.99it/s]\n",
      "\n",
      " 86%|████████▌ | 1235/1439 [00:10<00:01, 112.64it/s]\n",
      "\n",
      " 87%|████████▋ | 1247/1439 [00:10<00:01, 113.09it/s]\n",
      "\n",
      " 88%|████████▊ | 1260/1439 [00:10<00:01, 116.83it/s]\n",
      "\n",
      " 88%|████████▊ | 1272/1439 [00:10<00:01, 114.80it/s]\n",
      "\n",
      " 89%|████████▉ | 1284/1439 [00:10<00:01, 115.04it/s]\n",
      "\n",
      " 90%|█████████ | 1297/1439 [00:10<00:01, 116.07it/s]\n",
      "\n",
      " 91%|█████████ | 1310/1439 [00:11<00:01, 117.51it/s]\n",
      "\n",
      " 92%|█████████▏| 1323/1439 [00:11<00:00, 116.18it/s]\n",
      "\n",
      " 93%|█████████▎| 1336/1439 [00:11<00:00, 115.10it/s]\n",
      "\n",
      " 94%|█████████▎| 1348/1439 [00:11<00:00, 113.70it/s]\n",
      "\n",
      " 95%|█████████▍| 1360/1439 [00:11<00:00, 114.95it/s]\n",
      "\n",
      " 95%|█████████▌| 1374/1439 [00:11<00:00, 117.03it/s]\n",
      "\n",
      " 96%|█████████▋| 1387/1439 [00:11<00:00, 118.17it/s]\n",
      "\n",
      " 97%|█████████▋| 1400/1439 [00:11<00:00, 120.04it/s]\n",
      "\n",
      " 98%|█████████▊| 1413/1439 [00:11<00:00, 118.69it/s]\n",
      "\n",
      " 99%|█████████▉| 1425/1439 [00:12<00:00, 116.36it/s]\n",
      "\n",
      "100%|█████████▉| 1437/1439 [00:12<00:00, 116.53it/s]\n",
      "\n",
      "100%|██████████| 1439/1439 [00:12<00:00, 117.96it/s]"
     ]
    }
   ],
   "source": [
    "for i in tqdm(range(0, 1439)):\n",
    "    for j in range(0, 39):\n",
    "        for k in range(0, 216):\n",
    "#             print(i)\n",
    "#             print(j)\n",
    "#             print(k)\n",
    "            temp = data[i]\n",
    "            temp2 = temp[j]\n",
    "            if (k >= len(temp2)):\n",
    "                continue\n",
    "            else:\n",
    "                temp3 = temp2[k]\n",
    "            DATA[i][j][k] = float(temp3)"
   ]
  },
  {
   "cell_type": "code",
   "execution_count": 123,
   "metadata": {},
   "outputs": [
    {
     "data": {
      "text/plain": [
       "(1440, 39, 216)"
      ]
     },
     "execution_count": 123,
     "metadata": {},
     "output_type": "execute_result"
    }
   ],
   "source": [
    "DATA = np.array(DATA)\n",
    "DATA.shape"
   ]
  },
  {
   "cell_type": "code",
   "execution_count": 124,
   "metadata": {},
   "outputs": [
    {
     "data": {
      "text/plain": [
       "1440"
      ]
     },
     "execution_count": 124,
     "metadata": {},
     "output_type": "execute_result"
    }
   ],
   "source": [
    "labels = np.array(labels)\n",
    "len(labels)"
   ]
  },
  {
   "cell_type": "code",
   "execution_count": 125,
   "metadata": {},
   "outputs": [],
   "source": [
    "X_train, X_test, Y_train, Y_test = train_test_split(DATA, labels, test_size=0.3, random_state=42)\n",
    "\n",
    "X_train = np.array(X_train)\n",
    "X_test = np.array(X_test)\n",
    "\n",
    "Y_train = np.array(Y_train)\n",
    "Y_test = np.array(Y_test)"
   ]
  },
  {
   "cell_type": "code",
   "execution_count": 126,
   "metadata": {},
   "outputs": [],
   "source": [
    "numLabels = len(classLabels)\n",
    "\n",
    "Y_train = to_categorical(Y_train)\n",
    "Y_test = to_categorical(Y_test)"
   ]
  },
  {
   "cell_type": "code",
   "execution_count": 127,
   "metadata": {},
   "outputs": [],
   "source": [
    "in_shape = X_train[0].shape\n",
    "X_train = X_train.reshape(X_train.shape[0], in_shape[0], in_shape[1], 1)\n",
    "X_test = X_test.reshape(X_test.shape[0], in_shape[0], in_shape[1], 1)"
   ]
  },
  {
   "cell_type": "code",
   "execution_count": 128,
   "metadata": {},
   "outputs": [
    {
     "data": {
      "text/plain": [
       "(39, 216)"
      ]
     },
     "execution_count": 128,
     "metadata": {},
     "output_type": "execute_result"
    }
   ],
   "source": [
    "in_shape"
   ]
  },
  {
   "cell_type": "code",
   "execution_count": 129,
   "metadata": {},
   "outputs": [
    {
     "name": "stderr",
     "output_type": "stream",
     "text": [
      "WARNING: Logging before flag parsing goes to stderr.\n",
      "W0513 01:11:39.018074 18248 deprecation_wrapper.py:119] From C:\\Users\\samya\\Anaconda3\\lib\\site-packages\\keras\\backend\\tensorflow_backend.py:4070: The name tf.nn.max_pool is deprecated. Please use tf.nn.max_pool2d instead.\n",
      "\n"
     ]
    }
   ],
   "source": [
    "model = Sequential()\n",
    "model.add(Conv2D(8, (13, 13), input_shape=(in_shape[0], in_shape[1], 1)))\n",
    "model.add(BatchNormalization(axis=-1))\n",
    "model.add(Activation('relu'))\n",
    "model.add(Conv2D(8, (13, 13)))\n",
    "model.add(BatchNormalization(axis=-1))\n",
    "model.add(Activation('relu'))\n",
    "model.add(MaxPooling2D(pool_size=(2, 1)))\n",
    "model.add(Conv2D(8, (3, 3)))\n",
    "model.add(BatchNormalization(axis=-1))\n",
    "model.add(Activation('relu'))\n",
    "model.add(Conv2D(8, (1, 1)))\n",
    "model.add(BatchNormalization(axis=-1))\n",
    "model.add(Activation('relu'))\n",
    "model.add(MaxPooling2D(pool_size=(2, 1)))\n",
    "model.add(Flatten())\n",
    "model.add(Dense(64))\n",
    "model.add(BatchNormalization())\n",
    "model.add(Activation('relu'))\n",
    "model.add(Dropout(0.2))\n",
    "model.add(Dense(numLabels, activation = 'softmax'))"
   ]
  },
  {
   "cell_type": "code",
   "execution_count": 131,
   "metadata": {},
   "outputs": [
    {
     "name": "stdout",
     "output_type": "stream",
     "text": [
      "Model: \"sequential_1\"\n",
      "_________________________________________________________________\n",
      "Layer (type)                 Output Shape              Param #   \n",
      "=================================================================\n",
      "conv2d_1 (Conv2D)            (None, 27, 204, 8)        1360      \n",
      "_________________________________________________________________\n",
      "batch_normalization_1 (Batch (None, 27, 204, 8)        32        \n",
      "_________________________________________________________________\n",
      "activation_1 (Activation)    (None, 27, 204, 8)        0         \n",
      "_________________________________________________________________\n",
      "conv2d_2 (Conv2D)            (None, 15, 192, 8)        10824     \n",
      "_________________________________________________________________\n",
      "batch_normalization_2 (Batch (None, 15, 192, 8)        32        \n",
      "_________________________________________________________________\n",
      "activation_2 (Activation)    (None, 15, 192, 8)        0         \n",
      "_________________________________________________________________\n",
      "max_pooling2d_1 (MaxPooling2 (None, 7, 192, 8)         0         \n",
      "_________________________________________________________________\n",
      "conv2d_3 (Conv2D)            (None, 5, 190, 8)         584       \n",
      "_________________________________________________________________\n",
      "batch_normalization_3 (Batch (None, 5, 190, 8)         32        \n",
      "_________________________________________________________________\n",
      "activation_3 (Activation)    (None, 5, 190, 8)         0         \n",
      "_________________________________________________________________\n",
      "conv2d_4 (Conv2D)            (None, 5, 190, 8)         72        \n",
      "_________________________________________________________________\n",
      "batch_normalization_4 (Batch (None, 5, 190, 8)         32        \n",
      "_________________________________________________________________\n",
      "activation_4 (Activation)    (None, 5, 190, 8)         0         \n",
      "_________________________________________________________________\n",
      "max_pooling2d_2 (MaxPooling2 (None, 2, 190, 8)         0         \n",
      "_________________________________________________________________\n",
      "flatten_1 (Flatten)          (None, 3040)              0         \n",
      "_________________________________________________________________\n",
      "dense_1 (Dense)              (None, 64)                194624    \n",
      "_________________________________________________________________\n",
      "batch_normalization_5 (Batch (None, 64)                256       \n",
      "_________________________________________________________________\n",
      "activation_5 (Activation)    (None, 64)                0         \n",
      "_________________________________________________________________\n",
      "dropout_1 (Dropout)          (None, 64)                0         \n",
      "_________________________________________________________________\n",
      "dense_2 (Dense)              (None, 7)                 455       \n",
      "=================================================================\n",
      "Total params: 208,303\n",
      "Trainable params: 208,111\n",
      "Non-trainable params: 192\n",
      "_________________________________________________________________\n"
     ]
    }
   ],
   "source": [
    "model.summary()"
   ]
  },
  {
   "cell_type": "code",
   "execution_count": 132,
   "metadata": {},
   "outputs": [],
   "source": [
    "model.compile(loss='binary_crossentropy', optimizer='adam',\n",
    "                           metrics=['accuracy'])\n"
   ]
  },
  {
   "cell_type": "code",
   "execution_count": 134,
   "metadata": {},
   "outputs": [
    {
     "name": "stdout",
     "output_type": "stream",
     "text": [
      "Epoch 1/50\n",
      "1008/1008 [==============================] - ETA: 32s - loss: 0.3655 - accuracy: 0.870 - ETA: 24s - loss: 0.3474 - accuracy: 0.875 - ETA: 21s - loss: 0.3309 - accuracy: 0.873 - ETA: 19s - loss: 0.3211 - accuracy: 0.879 - ETA: 18s - loss: 0.3152 - accuracy: 0.878 - ETA: 17s - loss: 0.3092 - accuracy: 0.882 - ETA: 16s - loss: 0.3071 - accuracy: 0.883 - ETA: 15s - loss: 0.3008 - accuracy: 0.883 - ETA: 14s - loss: 0.3001 - accuracy: 0.885 - ETA: 15s - loss: 0.2973 - accuracy: 0.885 - ETA: 14s - loss: 0.2937 - accuracy: 0.888 - ETA: 13s - loss: 0.2976 - accuracy: 0.885 - ETA: 12s - loss: 0.2970 - accuracy: 0.885 - ETA: 11s - loss: 0.2963 - accuracy: 0.884 - ETA: 10s - loss: 0.2953 - accuracy: 0.883 - ETA: 10s - loss: 0.2923 - accuracy: 0.885 - ETA: 9s - loss: 0.2914 - accuracy: 0.886 - ETA: 8s - loss: 0.2934 - accuracy: 0.88 - ETA: 8s - loss: 0.2937 - accuracy: 0.88 - ETA: 7s - loss: 0.2911 - accuracy: 0.88 - ETA: 7s - loss: 0.2900 - accuracy: 0.88 - ETA: 6s - loss: 0.2887 - accuracy: 0.88 - ETA: 5s - loss: 0.2884 - accuracy: 0.88 - ETA: 5s - loss: 0.2861 - accuracy: 0.88 - ETA: 4s - loss: 0.2852 - accuracy: 0.88 - ETA: 3s - loss: 0.2848 - accuracy: 0.88 - ETA: 2s - loss: 0.2849 - accuracy: 0.88 - ETA: 2s - loss: 0.2828 - accuracy: 0.88 - ETA: 1s - loss: 0.2833 - accuracy: 0.88 - ETA: 1s - loss: 0.2826 - accuracy: 0.88 - ETA: 0s - loss: 0.2814 - accuracy: 0.88 - 21s 21ms/step - loss: 0.2811 - accuracy: 0.8876\n",
      "Epoch 2/50\n",
      "1008/1008 [==============================] - ETA: 16s - loss: 0.2392 - accuracy: 0.897 - ETA: 16s - loss: 0.2141 - accuracy: 0.912 - ETA: 15s - loss: 0.2271 - accuracy: 0.909 - ETA: 15s - loss: 0.2198 - accuracy: 0.909 - ETA: 14s - loss: 0.2225 - accuracy: 0.908 - ETA: 16s - loss: 0.2204 - accuracy: 0.910 - ETA: 15s - loss: 0.2145 - accuracy: 0.914 - ETA: 15s - loss: 0.2145 - accuracy: 0.913 - ETA: 14s - loss: 0.2151 - accuracy: 0.914 - ETA: 13s - loss: 0.2199 - accuracy: 0.910 - ETA: 12s - loss: 0.2219 - accuracy: 0.908 - ETA: 11s - loss: 0.2229 - accuracy: 0.907 - ETA: 11s - loss: 0.2214 - accuracy: 0.909 - ETA: 10s - loss: 0.2167 - accuracy: 0.912 - ETA: 10s - loss: 0.2165 - accuracy: 0.912 - ETA: 9s - loss: 0.2134 - accuracy: 0.914 - ETA: 9s - loss: 0.2149 - accuracy: 0.91 - ETA: 8s - loss: 0.2169 - accuracy: 0.91 - ETA: 7s - loss: 0.2173 - accuracy: 0.91 - ETA: 7s - loss: 0.2170 - accuracy: 0.91 - ETA: 6s - loss: 0.2185 - accuracy: 0.91 - ETA: 5s - loss: 0.2183 - accuracy: 0.91 - ETA: 5s - loss: 0.2205 - accuracy: 0.91 - ETA: 4s - loss: 0.2194 - accuracy: 0.91 - ETA: 4s - loss: 0.2205 - accuracy: 0.91 - ETA: 3s - loss: 0.2206 - accuracy: 0.91 - ETA: 2s - loss: 0.2207 - accuracy: 0.91 - ETA: 2s - loss: 0.2216 - accuracy: 0.91 - ETA: 1s - loss: 0.2221 - accuracy: 0.91 - ETA: 0s - loss: 0.2221 - accuracy: 0.91 - ETA: 0s - loss: 0.2213 - accuracy: 0.91 - 19s 19ms/step - loss: 0.2220 - accuracy: 0.9111\n",
      "Epoch 3/50\n",
      "1008/1008 [==============================] - ETA: 16s - loss: 0.1726 - accuracy: 0.933 - ETA: 16s - loss: 0.1834 - accuracy: 0.928 - ETA: 21s - loss: 0.1694 - accuracy: 0.937 - ETA: 19s - loss: 0.1744 - accuracy: 0.933 - ETA: 18s - loss: 0.1712 - accuracy: 0.936 - ETA: 17s - loss: 0.1670 - accuracy: 0.936 - ETA: 16s - loss: 0.1651 - accuracy: 0.938 - ETA: 15s - loss: 0.1617 - accuracy: 0.940 - ETA: 14s - loss: 0.1687 - accuracy: 0.936 - ETA: 13s - loss: 0.1687 - accuracy: 0.935 - ETA: 12s - loss: 0.1694 - accuracy: 0.935 - ETA: 11s - loss: 0.1701 - accuracy: 0.935 - ETA: 11s - loss: 0.1701 - accuracy: 0.935 - ETA: 11s - loss: 0.1701 - accuracy: 0.936 - ETA: 10s - loss: 0.1705 - accuracy: 0.936 - ETA: 9s - loss: 0.1705 - accuracy: 0.936 - ETA: 9s - loss: 0.1712 - accuracy: 0.93 - ETA: 8s - loss: 0.1724 - accuracy: 0.93 - ETA: 7s - loss: 0.1736 - accuracy: 0.93 - ETA: 7s - loss: 0.1748 - accuracy: 0.93 - ETA: 6s - loss: 0.1750 - accuracy: 0.93 - ETA: 5s - loss: 0.1730 - accuracy: 0.93 - ETA: 5s - loss: 0.1732 - accuracy: 0.93 - ETA: 4s - loss: 0.1736 - accuracy: 0.93 - ETA: 4s - loss: 0.1720 - accuracy: 0.93 - ETA: 3s - loss: 0.1715 - accuracy: 0.93 - ETA: 2s - loss: 0.1727 - accuracy: 0.93 - ETA: 2s - loss: 0.1710 - accuracy: 0.93 - ETA: 1s - loss: 0.1721 - accuracy: 0.93 - ETA: 0s - loss: 0.1726 - accuracy: 0.93 - ETA: 0s - loss: 0.1726 - accuracy: 0.93 - 20s 19ms/step - loss: 0.1728 - accuracy: 0.9372\n",
      "Epoch 4/50\n",
      "1008/1008 [==============================] - ETA: 16s - loss: 0.1529 - accuracy: 0.942 - ETA: 17s - loss: 0.1558 - accuracy: 0.937 - ETA: 21s - loss: 0.1553 - accuracy: 0.942 - ETA: 19s - loss: 0.1457 - accuracy: 0.948 - ETA: 18s - loss: 0.1468 - accuracy: 0.948 - ETA: 16s - loss: 0.1415 - accuracy: 0.950 - ETA: 15s - loss: 0.1392 - accuracy: 0.951 - ETA: 14s - loss: 0.1354 - accuracy: 0.952 - ETA: 14s - loss: 0.1321 - accuracy: 0.954 - ETA: 13s - loss: 0.1336 - accuracy: 0.953 - ETA: 12s - loss: 0.1304 - accuracy: 0.955 - ETA: 11s - loss: 0.1305 - accuracy: 0.956 - ETA: 11s - loss: 0.1288 - accuracy: 0.957 - ETA: 11s - loss: 0.1274 - accuracy: 0.958 - ETA: 10s - loss: 0.1265 - accuracy: 0.958 - ETA: 9s - loss: 0.1242 - accuracy: 0.959 - ETA: 9s - loss: 0.1242 - accuracy: 0.95 - ETA: 8s - loss: 0.1240 - accuracy: 0.95 - ETA: 7s - loss: 0.1249 - accuracy: 0.95 - ETA: 7s - loss: 0.1238 - accuracy: 0.95 - ETA: 6s - loss: 0.1241 - accuracy: 0.95 - ETA: 5s - loss: 0.1268 - accuracy: 0.95 - ETA: 5s - loss: 0.1286 - accuracy: 0.95 - ETA: 4s - loss: 0.1283 - accuracy: 0.95 - ETA: 4s - loss: 0.1281 - accuracy: 0.95 - ETA: 3s - loss: 0.1298 - accuracy: 0.95 - ETA: 2s - loss: 0.1292 - accuracy: 0.95 - ETA: 2s - loss: 0.1289 - accuracy: 0.95 - ETA: 1s - loss: 0.1282 - accuracy: 0.95 - ETA: 0s - loss: 0.1271 - accuracy: 0.95 - ETA: 0s - loss: 0.1281 - accuracy: 0.95 - 19s 19ms/step - loss: 0.1290 - accuracy: 0.9569\n",
      "Epoch 5/50\n",
      "1008/1008 [==============================] - ETA: 36s - loss: 0.0943 - accuracy: 0.973 - ETA: 26s - loss: 0.0919 - accuracy: 0.973 - ETA: 22s - loss: 0.0886 - accuracy: 0.976 - ETA: 20s - loss: 0.0951 - accuracy: 0.973 - ETA: 18s - loss: 0.0936 - accuracy: 0.975 - ETA: 17s - loss: 0.0945 - accuracy: 0.974 - ETA: 16s - loss: 0.0997 - accuracy: 0.971 - ETA: 15s - loss: 0.0989 - accuracy: 0.972 - ETA: 14s - loss: 0.0999 - accuracy: 0.970 - ETA: 15s - loss: 0.1035 - accuracy: 0.969 - ETA: 14s - loss: 0.1036 - accuracy: 0.968 - ETA: 13s - loss: 0.1029 - accuracy: 0.969 - ETA: 12s - loss: 0.1026 - accuracy: 0.969 - ETA: 11s - loss: 0.1026 - accuracy: 0.969 - ETA: 11s - loss: 0.1031 - accuracy: 0.970 - ETA: 10s - loss: 0.1039 - accuracy: 0.970 - ETA: 10s - loss: 0.1032 - accuracy: 0.970 - ETA: 9s - loss: 0.1031 - accuracy: 0.969 - ETA: 9s - loss: 0.1033 - accuracy: 0.96 - ETA: 8s - loss: 0.1038 - accuracy: 0.96 - ETA: 7s - loss: 0.1033 - accuracy: 0.96 - ETA: 6s - loss: 0.1029 - accuracy: 0.96 - ETA: 6s - loss: 0.1035 - accuracy: 0.96 - ETA: 5s - loss: 0.1035 - accuracy: 0.97 - ETA: 4s - loss: 0.1039 - accuracy: 0.97 - ETA: 3s - loss: 0.1040 - accuracy: 0.97 - ETA: 3s - loss: 0.1037 - accuracy: 0.97 - ETA: 2s - loss: 0.1032 - accuracy: 0.97 - ETA: 1s - loss: 0.1041 - accuracy: 0.96 - ETA: 1s - loss: 0.1040 - accuracy: 0.96 - ETA: 0s - loss: 0.1030 - accuracy: 0.97 - 23s 23ms/step - loss: 0.1040 - accuracy: 0.9700\n",
      "Epoch 6/50\n"
     ]
    },
    {
     "name": "stdout",
     "output_type": "stream",
     "text": [
      "1008/1008 [==============================] - ETA: 23s - loss: 0.1220 - accuracy: 0.964 - ETA: 21s - loss: 0.1191 - accuracy: 0.962 - ETA: 20s - loss: 0.1085 - accuracy: 0.970 - ETA: 23s - loss: 0.0967 - accuracy: 0.974 - ETA: 21s - loss: 0.0890 - accuracy: 0.977 - ETA: 19s - loss: 0.0862 - accuracy: 0.978 - ETA: 18s - loss: 0.0838 - accuracy: 0.979 - ETA: 17s - loss: 0.0823 - accuracy: 0.979 - ETA: 16s - loss: 0.0815 - accuracy: 0.980 - ETA: 15s - loss: 0.0796 - accuracy: 0.980 - ETA: 14s - loss: 0.0799 - accuracy: 0.980 - ETA: 13s - loss: 0.0783 - accuracy: 0.980 - ETA: 13s - loss: 0.0779 - accuracy: 0.980 - ETA: 12s - loss: 0.0769 - accuracy: 0.981 - ETA: 12s - loss: 0.0766 - accuracy: 0.981 - ETA: 11s - loss: 0.0764 - accuracy: 0.981 - ETA: 10s - loss: 0.0763 - accuracy: 0.981 - ETA: 9s - loss: 0.0757 - accuracy: 0.982 - ETA: 8s - loss: 0.0750 - accuracy: 0.98 - ETA: 8s - loss: 0.0744 - accuracy: 0.98 - ETA: 7s - loss: 0.0763 - accuracy: 0.98 - ETA: 6s - loss: 0.0763 - accuracy: 0.98 - ETA: 6s - loss: 0.0765 - accuracy: 0.98 - ETA: 5s - loss: 0.0769 - accuracy: 0.98 - ETA: 4s - loss: 0.0768 - accuracy: 0.98 - ETA: 3s - loss: 0.0766 - accuracy: 0.98 - ETA: 3s - loss: 0.0768 - accuracy: 0.98 - ETA: 2s - loss: 0.0764 - accuracy: 0.98 - ETA: 1s - loss: 0.0769 - accuracy: 0.98 - ETA: 1s - loss: 0.0764 - accuracy: 0.98 - ETA: 0s - loss: 0.0768 - accuracy: 0.98 - 22s 22ms/step - loss: 0.0766 - accuracy: 0.9821\n",
      "Epoch 7/50\n",
      "1008/1008 [==============================] - ETA: 18s - loss: 0.0448 - accuracy: 1.000 - ETA: 18s - loss: 0.0555 - accuracy: 0.991 - ETA: 17s - loss: 0.0611 - accuracy: 0.985 - ETA: 16s - loss: 0.0656 - accuracy: 0.982 - ETA: 15s - loss: 0.0649 - accuracy: 0.983 - ETA: 15s - loss: 0.0662 - accuracy: 0.982 - ETA: 14s - loss: 0.0631 - accuracy: 0.985 - ETA: 14s - loss: 0.0647 - accuracy: 0.984 - ETA: 13s - loss: 0.0624 - accuracy: 0.984 - ETA: 14s - loss: 0.0625 - accuracy: 0.985 - ETA: 14s - loss: 0.0618 - accuracy: 0.985 - ETA: 13s - loss: 0.0612 - accuracy: 0.986 - ETA: 13s - loss: 0.0616 - accuracy: 0.985 - ETA: 12s - loss: 0.0610 - accuracy: 0.986 - ETA: 11s - loss: 0.0611 - accuracy: 0.986 - ETA: 10s - loss: 0.0622 - accuracy: 0.986 - ETA: 10s - loss: 0.0623 - accuracy: 0.986 - ETA: 9s - loss: 0.0626 - accuracy: 0.986 - ETA: 8s - loss: 0.0615 - accuracy: 0.98 - ETA: 8s - loss: 0.0616 - accuracy: 0.98 - ETA: 7s - loss: 0.0610 - accuracy: 0.98 - ETA: 6s - loss: 0.0601 - accuracy: 0.98 - ETA: 6s - loss: 0.0605 - accuracy: 0.98 - ETA: 5s - loss: 0.0592 - accuracy: 0.98 - ETA: 4s - loss: 0.0585 - accuracy: 0.98 - ETA: 3s - loss: 0.0582 - accuracy: 0.98 - ETA: 3s - loss: 0.0578 - accuracy: 0.98 - ETA: 2s - loss: 0.0579 - accuracy: 0.98 - ETA: 1s - loss: 0.0579 - accuracy: 0.98 - ETA: 1s - loss: 0.0576 - accuracy: 0.98 - ETA: 0s - loss: 0.0580 - accuracy: 0.98 - 22s 22ms/step - loss: 0.0584 - accuracy: 0.9881\n",
      "Epoch 8/50\n",
      "1008/1008 [==============================] - ETA: 16s - loss: 0.0467 - accuracy: 1.000 - ETA: 16s - loss: 0.0394 - accuracy: 1.000 - ETA: 15s - loss: 0.0397 - accuracy: 0.998 - ETA: 15s - loss: 0.0360 - accuracy: 0.998 - ETA: 14s - loss: 0.0387 - accuracy: 0.997 - ETA: 16s - loss: 0.0440 - accuracy: 0.994 - ETA: 15s - loss: 0.0447 - accuracy: 0.994 - ETA: 14s - loss: 0.0430 - accuracy: 0.995 - ETA: 14s - loss: 0.0434 - accuracy: 0.996 - ETA: 13s - loss: 0.0429 - accuracy: 0.996 - ETA: 12s - loss: 0.0422 - accuracy: 0.996 - ETA: 12s - loss: 0.0420 - accuracy: 0.996 - ETA: 11s - loss: 0.0414 - accuracy: 0.996 - ETA: 10s - loss: 0.0406 - accuracy: 0.996 - ETA: 11s - loss: 0.0402 - accuracy: 0.996 - ETA: 10s - loss: 0.0410 - accuracy: 0.996 - ETA: 9s - loss: 0.0409 - accuracy: 0.996 - ETA: 9s - loss: 0.0417 - accuracy: 0.99 - ETA: 8s - loss: 0.0415 - accuracy: 0.99 - ETA: 7s - loss: 0.0421 - accuracy: 0.99 - ETA: 7s - loss: 0.0428 - accuracy: 0.99 - ETA: 6s - loss: 0.0426 - accuracy: 0.99 - ETA: 5s - loss: 0.0429 - accuracy: 0.99 - ETA: 5s - loss: 0.0435 - accuracy: 0.99 - ETA: 4s - loss: 0.0434 - accuracy: 0.99 - ETA: 3s - loss: 0.0437 - accuracy: 0.99 - ETA: 3s - loss: 0.0432 - accuracy: 0.99 - ETA: 2s - loss: 0.0434 - accuracy: 0.99 - ETA: 1s - loss: 0.0446 - accuracy: 0.99 - ETA: 1s - loss: 0.0442 - accuracy: 0.99 - ETA: 0s - loss: 0.0437 - accuracy: 0.99 - 22s 22ms/step - loss: 0.0438 - accuracy: 0.9943\n",
      "Epoch 9/50\n",
      "1008/1008 [==============================] - ETA: 24s - loss: 0.0242 - accuracy: 1.000 - ETA: 22s - loss: 0.0310 - accuracy: 0.997 - ETA: 21s - loss: 0.0326 - accuracy: 0.998 - ETA: 20s - loss: 0.0320 - accuracy: 0.998 - ETA: 18s - loss: 0.0303 - accuracy: 0.999 - ETA: 18s - loss: 0.0297 - accuracy: 0.998 - ETA: 17s - loss: 0.0285 - accuracy: 0.998 - ETA: 16s - loss: 0.0307 - accuracy: 0.998 - ETA: 16s - loss: 0.0293 - accuracy: 0.998 - ETA: 16s - loss: 0.0299 - accuracy: 0.997 - ETA: 15s - loss: 0.0309 - accuracy: 0.997 - ETA: 14s - loss: 0.0314 - accuracy: 0.997 - ETA: 13s - loss: 0.0301 - accuracy: 0.997 - ETA: 12s - loss: 0.0295 - accuracy: 0.997 - ETA: 11s - loss: 0.0293 - accuracy: 0.997 - ETA: 11s - loss: 0.0290 - accuracy: 0.998 - ETA: 10s - loss: 0.0289 - accuracy: 0.998 - ETA: 9s - loss: 0.0293 - accuracy: 0.998 - ETA: 9s - loss: 0.0287 - accuracy: 0.99 - ETA: 8s - loss: 0.0284 - accuracy: 0.99 - ETA: 7s - loss: 0.0280 - accuracy: 0.99 - ETA: 6s - loss: 0.0278 - accuracy: 0.99 - ETA: 6s - loss: 0.0277 - accuracy: 0.99 - ETA: 5s - loss: 0.0280 - accuracy: 0.99 - ETA: 4s - loss: 0.0283 - accuracy: 0.99 - ETA: 3s - loss: 0.0281 - accuracy: 0.99 - ETA: 3s - loss: 0.0284 - accuracy: 0.99 - ETA: 2s - loss: 0.0281 - accuracy: 0.99 - ETA: 1s - loss: 0.0286 - accuracy: 0.99 - ETA: 1s - loss: 0.0286 - accuracy: 0.99 - ETA: 0s - loss: 0.0285 - accuracy: 0.99 - 22s 22ms/step - loss: 0.0284 - accuracy: 0.9986\n",
      "Epoch 10/50\n",
      "1008/1008 [==============================] - ETA: 18s - loss: 0.0254 - accuracy: 1.000 - ETA: 17s - loss: 0.0256 - accuracy: 1.000 - ETA: 16s - loss: 0.0251 - accuracy: 1.000 - ETA: 16s - loss: 0.0291 - accuracy: 0.997 - ETA: 15s - loss: 0.0275 - accuracy: 0.997 - ETA: 14s - loss: 0.0260 - accuracy: 0.997 - ETA: 16s - loss: 0.0246 - accuracy: 0.998 - ETA: 15s - loss: 0.0246 - accuracy: 0.998 - ETA: 14s - loss: 0.0242 - accuracy: 0.998 - ETA: 14s - loss: 0.0252 - accuracy: 0.997 - ETA: 13s - loss: 0.0247 - accuracy: 0.998 - ETA: 12s - loss: 0.0240 - accuracy: 0.998 - ETA: 11s - loss: 0.0233 - accuracy: 0.998 - ETA: 10s - loss: 0.0230 - accuracy: 0.998 - ETA: 10s - loss: 0.0232 - accuracy: 0.998 - ETA: 9s - loss: 0.0235 - accuracy: 0.998 - ETA: 9s - loss: 0.0230 - accuracy: 0.99 - ETA: 8s - loss: 0.0231 - accuracy: 0.99 - ETA: 8s - loss: 0.0235 - accuracy: 0.99 - ETA: 7s - loss: 0.0237 - accuracy: 0.99 - ETA: 6s - loss: 0.0235 - accuracy: 0.99 - ETA: 6s - loss: 0.0231 - accuracy: 0.99 - ETA: 5s - loss: 0.0229 - accuracy: 0.99 - ETA: 4s - loss: 0.0226 - accuracy: 0.99 - ETA: 4s - loss: 0.0223 - accuracy: 0.99 - ETA: 3s - loss: 0.0222 - accuracy: 0.99 - ETA: 2s - loss: 0.0221 - accuracy: 0.99 - ETA: 2s - loss: 0.0220 - accuracy: 0.99 - ETA: 1s - loss: 0.0217 - accuracy: 0.99 - ETA: 0s - loss: 0.0215 - accuracy: 0.99 - ETA: 0s - loss: 0.0215 - accuracy: 0.99 - 20s 20ms/step - loss: 0.0216 - accuracy: 0.9991\n",
      "Epoch 11/50\n"
     ]
    },
    {
     "name": "stdout",
     "output_type": "stream",
     "text": [
      "1008/1008 [==============================] - ETA: 16s - loss: 0.0122 - accuracy: 1.000 - ETA: 16s - loss: 0.0213 - accuracy: 0.995 - ETA: 16s - loss: 0.0190 - accuracy: 0.997 - ETA: 18s - loss: 0.0180 - accuracy: 0.997 - ETA: 18s - loss: 0.0187 - accuracy: 0.998 - ETA: 17s - loss: 0.0175 - accuracy: 0.998 - ETA: 16s - loss: 0.0165 - accuracy: 0.998 - ETA: 15s - loss: 0.0175 - accuracy: 0.998 - ETA: 15s - loss: 0.0175 - accuracy: 0.999 - ETA: 14s - loss: 0.0172 - accuracy: 0.999 - ETA: 13s - loss: 0.0174 - accuracy: 0.999 - ETA: 12s - loss: 0.0179 - accuracy: 0.999 - ETA: 12s - loss: 0.0175 - accuracy: 0.999 - ETA: 12s - loss: 0.0176 - accuracy: 0.999 - ETA: 11s - loss: 0.0172 - accuracy: 0.999 - ETA: 10s - loss: 0.0170 - accuracy: 0.999 - ETA: 9s - loss: 0.0174 - accuracy: 0.998 - ETA: 9s - loss: 0.0171 - accuracy: 0.99 - ETA: 8s - loss: 0.0174 - accuracy: 0.99 - ETA: 7s - loss: 0.0175 - accuracy: 0.99 - ETA: 7s - loss: 0.0178 - accuracy: 0.99 - ETA: 6s - loss: 0.0179 - accuracy: 0.99 - ETA: 5s - loss: 0.0178 - accuracy: 0.99 - ETA: 5s - loss: 0.0176 - accuracy: 0.99 - ETA: 4s - loss: 0.0173 - accuracy: 0.99 - ETA: 3s - loss: 0.0174 - accuracy: 0.99 - ETA: 3s - loss: 0.0173 - accuracy: 0.99 - ETA: 2s - loss: 0.0175 - accuracy: 0.99 - ETA: 1s - loss: 0.0175 - accuracy: 0.99 - ETA: 1s - loss: 0.0174 - accuracy: 0.99 - ETA: 0s - loss: 0.0175 - accuracy: 0.99 - 21s 21ms/step - loss: 0.0175 - accuracy: 0.9990\n",
      "Epoch 12/50\n",
      "1008/1008 [==============================] - ETA: 17s - loss: 0.0098 - accuracy: 1.000 - ETA: 26s - loss: 0.0098 - accuracy: 1.000 - ETA: 23s - loss: 0.0098 - accuracy: 1.000 - ETA: 21s - loss: 0.0127 - accuracy: 0.998 - ETA: 19s - loss: 0.0120 - accuracy: 0.999 - ETA: 18s - loss: 0.0123 - accuracy: 0.999 - ETA: 16s - loss: 0.0124 - accuracy: 0.999 - ETA: 15s - loss: 0.0118 - accuracy: 0.999 - ETA: 14s - loss: 0.0119 - accuracy: 0.999 - ETA: 14s - loss: 0.0126 - accuracy: 0.999 - ETA: 14s - loss: 0.0129 - accuracy: 0.999 - ETA: 13s - loss: 0.0130 - accuracy: 0.999 - ETA: 12s - loss: 0.0130 - accuracy: 0.999 - ETA: 11s - loss: 0.0127 - accuracy: 0.999 - ETA: 11s - loss: 0.0134 - accuracy: 0.998 - ETA: 10s - loss: 0.0141 - accuracy: 0.998 - ETA: 9s - loss: 0.0139 - accuracy: 0.998 - ETA: 8s - loss: 0.0138 - accuracy: 0.99 - ETA: 8s - loss: 0.0137 - accuracy: 0.99 - ETA: 7s - loss: 0.0137 - accuracy: 0.99 - ETA: 7s - loss: 0.0134 - accuracy: 0.99 - ETA: 6s - loss: 0.0138 - accuracy: 0.99 - ETA: 5s - loss: 0.0138 - accuracy: 0.99 - ETA: 5s - loss: 0.0138 - accuracy: 0.99 - ETA: 4s - loss: 0.0141 - accuracy: 0.99 - ETA: 3s - loss: 0.0142 - accuracy: 0.99 - ETA: 2s - loss: 0.0141 - accuracy: 0.99 - ETA: 2s - loss: 0.0142 - accuracy: 0.99 - ETA: 1s - loss: 0.0140 - accuracy: 0.99 - ETA: 0s - loss: 0.0141 - accuracy: 0.99 - ETA: 0s - loss: 0.0140 - accuracy: 0.99 - 21s 21ms/step - loss: 0.0141 - accuracy: 0.9991\n",
      "Epoch 13/50\n",
      "1008/1008 [==============================] - ETA: 16s - loss: 0.0102 - accuracy: 1.000 - ETA: 16s - loss: 0.0122 - accuracy: 1.000 - ETA: 15s - loss: 0.0112 - accuracy: 1.000 - ETA: 15s - loss: 0.0130 - accuracy: 1.000 - ETA: 14s - loss: 0.0123 - accuracy: 1.000 - ETA: 14s - loss: 0.0122 - accuracy: 1.000 - ETA: 13s - loss: 0.0130 - accuracy: 1.000 - ETA: 13s - loss: 0.0122 - accuracy: 1.000 - ETA: 12s - loss: 0.0118 - accuracy: 1.000 - ETA: 12s - loss: 0.0125 - accuracy: 1.000 - ETA: 11s - loss: 0.0122 - accuracy: 1.000 - ETA: 11s - loss: 0.0122 - accuracy: 1.000 - ETA: 11s - loss: 0.0126 - accuracy: 1.000 - ETA: 10s - loss: 0.0123 - accuracy: 1.000 - ETA: 10s - loss: 0.0123 - accuracy: 1.000 - ETA: 9s - loss: 0.0121 - accuracy: 1.000 - ETA: 8s - loss: 0.0121 - accuracy: 1.00 - ETA: 8s - loss: 0.0120 - accuracy: 1.00 - ETA: 7s - loss: 0.0124 - accuracy: 0.99 - ETA: 6s - loss: 0.0122 - accuracy: 0.99 - ETA: 6s - loss: 0.0121 - accuracy: 0.99 - ETA: 5s - loss: 0.0120 - accuracy: 0.99 - ETA: 5s - loss: 0.0125 - accuracy: 0.99 - ETA: 4s - loss: 0.0125 - accuracy: 0.99 - ETA: 4s - loss: 0.0123 - accuracy: 0.99 - ETA: 3s - loss: 0.0128 - accuracy: 0.99 - ETA: 2s - loss: 0.0127 - accuracy: 0.99 - ETA: 2s - loss: 0.0127 - accuracy: 0.99 - ETA: 1s - loss: 0.0127 - accuracy: 0.99 - ETA: 0s - loss: 0.0128 - accuracy: 0.99 - ETA: 0s - loss: 0.0126 - accuracy: 0.99 - 19s 19ms/step - loss: 0.0126 - accuracy: 0.9994\n",
      "Epoch 14/50\n",
      "1008/1008 [==============================] - ETA: 16s - loss: 0.0089 - accuracy: 1.000 - ETA: 16s - loss: 0.0085 - accuracy: 1.000 - ETA: 21s - loss: 0.0080 - accuracy: 1.000 - ETA: 19s - loss: 0.0086 - accuracy: 1.000 - ETA: 18s - loss: 0.0109 - accuracy: 0.997 - ETA: 17s - loss: 0.0103 - accuracy: 0.997 - ETA: 16s - loss: 0.0105 - accuracy: 0.998 - ETA: 15s - loss: 0.0103 - accuracy: 0.998 - ETA: 14s - loss: 0.0103 - accuracy: 0.998 - ETA: 13s - loss: 0.0101 - accuracy: 0.998 - ETA: 12s - loss: 0.0100 - accuracy: 0.998 - ETA: 11s - loss: 0.0095 - accuracy: 0.998 - ETA: 11s - loss: 0.0096 - accuracy: 0.999 - ETA: 10s - loss: 0.0094 - accuracy: 0.999 - ETA: 9s - loss: 0.0091 - accuracy: 0.999 - ETA: 9s - loss: 0.0094 - accuracy: 0.99 - ETA: 8s - loss: 0.0094 - accuracy: 0.99 - ETA: 8s - loss: 0.0093 - accuracy: 0.99 - ETA: 7s - loss: 0.0092 - accuracy: 0.99 - ETA: 7s - loss: 0.0093 - accuracy: 0.99 - ETA: 6s - loss: 0.0091 - accuracy: 0.99 - ETA: 5s - loss: 0.0089 - accuracy: 0.99 - ETA: 5s - loss: 0.0089 - accuracy: 0.99 - ETA: 4s - loss: 0.0089 - accuracy: 0.99 - ETA: 3s - loss: 0.0088 - accuracy: 0.99 - ETA: 3s - loss: 0.0089 - accuracy: 0.99 - ETA: 2s - loss: 0.0089 - accuracy: 0.99 - ETA: 2s - loss: 0.0090 - accuracy: 0.99 - ETA: 1s - loss: 0.0090 - accuracy: 0.99 - ETA: 0s - loss: 0.0089 - accuracy: 0.99 - ETA: 0s - loss: 0.0089 - accuracy: 0.99 - 19s 19ms/step - loss: 0.0089 - accuracy: 0.9996\n",
      "Epoch 15/50\n",
      "1008/1008 [==============================] - ETA: 17s - loss: 0.0089 - accuracy: 1.000 - ETA: 16s - loss: 0.0095 - accuracy: 1.000 - ETA: 16s - loss: 0.0092 - accuracy: 1.000 - ETA: 19s - loss: 0.0088 - accuracy: 1.000 - ETA: 18s - loss: 0.0082 - accuracy: 1.000 - ETA: 17s - loss: 0.0088 - accuracy: 1.000 - ETA: 16s - loss: 0.0084 - accuracy: 1.000 - ETA: 15s - loss: 0.0085 - accuracy: 1.000 - ETA: 14s - loss: 0.0087 - accuracy: 1.000 - ETA: 13s - loss: 0.0085 - accuracy: 1.000 - ETA: 12s - loss: 0.0093 - accuracy: 1.000 - ETA: 12s - loss: 0.0094 - accuracy: 1.000 - ETA: 11s - loss: 0.0091 - accuracy: 1.000 - ETA: 10s - loss: 0.0089 - accuracy: 1.000 - ETA: 9s - loss: 0.0088 - accuracy: 1.000 - ETA: 9s - loss: 0.0088 - accuracy: 1.00 - ETA: 8s - loss: 0.0087 - accuracy: 1.00 - ETA: 8s - loss: 0.0087 - accuracy: 1.00 - ETA: 7s - loss: 0.0089 - accuracy: 1.00 - ETA: 7s - loss: 0.0089 - accuracy: 1.00 - ETA: 6s - loss: 0.0091 - accuracy: 1.00 - ETA: 6s - loss: 0.0091 - accuracy: 1.00 - ETA: 5s - loss: 0.0090 - accuracy: 1.00 - ETA: 4s - loss: 0.0091 - accuracy: 1.00 - ETA: 4s - loss: 0.0090 - accuracy: 1.00 - ETA: 3s - loss: 0.0091 - accuracy: 1.00 - ETA: 2s - loss: 0.0089 - accuracy: 1.00 - ETA: 2s - loss: 0.0088 - accuracy: 1.00 - ETA: 1s - loss: 0.0089 - accuracy: 1.00 - ETA: 0s - loss: 0.0089 - accuracy: 1.00 - ETA: 0s - loss: 0.0089 - accuracy: 1.00 - 20s 20ms/step - loss: 0.0089 - accuracy: 1.0000\n",
      "Epoch 16/50\n"
     ]
    },
    {
     "name": "stdout",
     "output_type": "stream",
     "text": [
      "1008/1008 [==============================] - ETA: 18s - loss: 0.0068 - accuracy: 1.000 - ETA: 17s - loss: 0.0072 - accuracy: 1.000 - ETA: 16s - loss: 0.0059 - accuracy: 1.000 - ETA: 15s - loss: 0.0059 - accuracy: 1.000 - ETA: 15s - loss: 0.0065 - accuracy: 1.000 - ETA: 14s - loss: 0.0071 - accuracy: 1.000 - ETA: 13s - loss: 0.0073 - accuracy: 1.000 - ETA: 13s - loss: 0.0072 - accuracy: 1.000 - ETA: 12s - loss: 0.0070 - accuracy: 1.000 - ETA: 12s - loss: 0.0071 - accuracy: 1.000 - ETA: 12s - loss: 0.0075 - accuracy: 1.000 - ETA: 12s - loss: 0.0075 - accuracy: 1.000 - ETA: 11s - loss: 0.0079 - accuracy: 1.000 - ETA: 10s - loss: 0.0078 - accuracy: 1.000 - ETA: 10s - loss: 0.0076 - accuracy: 1.000 - ETA: 9s - loss: 0.0074 - accuracy: 1.000 - ETA: 8s - loss: 0.0073 - accuracy: 1.00 - ETA: 8s - loss: 0.0072 - accuracy: 1.00 - ETA: 7s - loss: 0.0073 - accuracy: 1.00 - ETA: 7s - loss: 0.0073 - accuracy: 1.00 - ETA: 6s - loss: 0.0072 - accuracy: 1.00 - ETA: 6s - loss: 0.0070 - accuracy: 1.00 - ETA: 5s - loss: 0.0070 - accuracy: 1.00 - ETA: 4s - loss: 0.0071 - accuracy: 1.00 - ETA: 4s - loss: 0.0071 - accuracy: 1.00 - ETA: 3s - loss: 0.0071 - accuracy: 1.00 - ETA: 2s - loss: 0.0072 - accuracy: 1.00 - ETA: 2s - loss: 0.0073 - accuracy: 1.00 - ETA: 1s - loss: 0.0073 - accuracy: 1.00 - ETA: 0s - loss: 0.0073 - accuracy: 1.00 - ETA: 0s - loss: 0.0072 - accuracy: 1.00 - 20s 20ms/step - loss: 0.0072 - accuracy: 1.0000\n",
      "Epoch 17/50\n",
      "1008/1008 [==============================] - ETA: 17s - loss: 0.0035 - accuracy: 1.000 - ETA: 17s - loss: 0.0036 - accuracy: 1.000 - ETA: 17s - loss: 0.0042 - accuracy: 1.000 - ETA: 16s - loss: 0.0040 - accuracy: 1.000 - ETA: 16s - loss: 0.0056 - accuracy: 1.000 - ETA: 15s - loss: 0.0055 - accuracy: 1.000 - ETA: 15s - loss: 0.0054 - accuracy: 1.000 - ETA: 14s - loss: 0.0054 - accuracy: 1.000 - ETA: 14s - loss: 0.0052 - accuracy: 1.000 - ETA: 14s - loss: 0.0060 - accuracy: 1.000 - ETA: 13s - loss: 0.0064 - accuracy: 1.000 - ETA: 13s - loss: 0.0063 - accuracy: 1.000 - ETA: 12s - loss: 0.0060 - accuracy: 1.000 - ETA: 11s - loss: 0.0062 - accuracy: 1.000 - ETA: 10s - loss: 0.0060 - accuracy: 1.000 - ETA: 10s - loss: 0.0062 - accuracy: 1.000 - ETA: 9s - loss: 0.0062 - accuracy: 1.000 - ETA: 8s - loss: 0.0061 - accuracy: 1.00 - ETA: 7s - loss: 0.0062 - accuracy: 1.00 - ETA: 7s - loss: 0.0061 - accuracy: 1.00 - ETA: 6s - loss: 0.0063 - accuracy: 1.00 - ETA: 6s - loss: 0.0063 - accuracy: 1.00 - ETA: 5s - loss: 0.0068 - accuracy: 1.00 - ETA: 4s - loss: 0.0070 - accuracy: 1.00 - ETA: 4s - loss: 0.0069 - accuracy: 1.00 - ETA: 3s - loss: 0.0070 - accuracy: 1.00 - ETA: 2s - loss: 0.0071 - accuracy: 1.00 - ETA: 2s - loss: 0.0071 - accuracy: 1.00 - ETA: 1s - loss: 0.0073 - accuracy: 1.00 - ETA: 0s - loss: 0.0072 - accuracy: 1.00 - ETA: 0s - loss: 0.0071 - accuracy: 1.00 - 20s 20ms/step - loss: 0.0071 - accuracy: 1.0000\n",
      "Epoch 18/50\n",
      "1008/1008 [==============================] - ETA: 18s - loss: 0.0037 - accuracy: 1.000 - ETA: 17s - loss: 0.0057 - accuracy: 1.000 - ETA: 17s - loss: 0.0052 - accuracy: 1.000 - ETA: 16s - loss: 0.0051 - accuracy: 1.000 - ETA: 15s - loss: 0.0064 - accuracy: 1.000 - ETA: 15s - loss: 0.0075 - accuracy: 1.000 - ETA: 14s - loss: 0.0079 - accuracy: 1.000 - ETA: 13s - loss: 0.0075 - accuracy: 1.000 - ETA: 14s - loss: 0.0072 - accuracy: 1.000 - ETA: 14s - loss: 0.0070 - accuracy: 1.000 - ETA: 13s - loss: 0.0068 - accuracy: 1.000 - ETA: 12s - loss: 0.0066 - accuracy: 1.000 - ETA: 11s - loss: 0.0063 - accuracy: 1.000 - ETA: 11s - loss: 0.0061 - accuracy: 1.000 - ETA: 10s - loss: 0.0062 - accuracy: 1.000 - ETA: 9s - loss: 0.0061 - accuracy: 1.000 - ETA: 9s - loss: 0.0061 - accuracy: 1.00 - ETA: 8s - loss: 0.0060 - accuracy: 1.00 - ETA: 8s - loss: 0.0060 - accuracy: 1.00 - ETA: 7s - loss: 0.0061 - accuracy: 1.00 - ETA: 6s - loss: 0.0064 - accuracy: 1.00 - ETA: 6s - loss: 0.0064 - accuracy: 1.00 - ETA: 5s - loss: 0.0064 - accuracy: 1.00 - ETA: 4s - loss: 0.0063 - accuracy: 1.00 - ETA: 4s - loss: 0.0064 - accuracy: 1.00 - ETA: 3s - loss: 0.0064 - accuracy: 1.00 - ETA: 2s - loss: 0.0063 - accuracy: 1.00 - ETA: 2s - loss: 0.0062 - accuracy: 1.00 - ETA: 1s - loss: 0.0062 - accuracy: 1.00 - ETA: 0s - loss: 0.0061 - accuracy: 1.00 - ETA: 0s - loss: 0.0062 - accuracy: 1.00 - 20s 20ms/step - loss: 0.0062 - accuracy: 1.0000\n",
      "Epoch 19/50\n",
      "1008/1008 [==============================] - ETA: 26s - loss: 0.0100 - accuracy: 1.000 - ETA: 21s - loss: 0.0075 - accuracy: 1.000 - ETA: 19s - loss: 0.0062 - accuracy: 1.000 - ETA: 17s - loss: 0.0060 - accuracy: 1.000 - ETA: 19s - loss: 0.0066 - accuracy: 1.000 - ETA: 18s - loss: 0.0073 - accuracy: 1.000 - ETA: 17s - loss: 0.0071 - accuracy: 1.000 - ETA: 16s - loss: 0.0070 - accuracy: 1.000 - ETA: 15s - loss: 0.0065 - accuracy: 1.000 - ETA: 14s - loss: 0.0067 - accuracy: 1.000 - ETA: 13s - loss: 0.0066 - accuracy: 1.000 - ETA: 12s - loss: 0.0064 - accuracy: 1.000 - ETA: 11s - loss: 0.0066 - accuracy: 1.000 - ETA: 11s - loss: 0.0065 - accuracy: 1.000 - ETA: 10s - loss: 0.0063 - accuracy: 1.000 - ETA: 9s - loss: 0.0062 - accuracy: 1.000 - ETA: 8s - loss: 0.0062 - accuracy: 1.00 - ETA: 8s - loss: 0.0062 - accuracy: 1.00 - ETA: 7s - loss: 0.0063 - accuracy: 1.00 - ETA: 7s - loss: 0.0062 - accuracy: 1.00 - ETA: 6s - loss: 0.0061 - accuracy: 1.00 - ETA: 5s - loss: 0.0061 - accuracy: 1.00 - ETA: 5s - loss: 0.0061 - accuracy: 1.00 - ETA: 4s - loss: 0.0060 - accuracy: 1.00 - ETA: 4s - loss: 0.0060 - accuracy: 1.00 - ETA: 3s - loss: 0.0058 - accuracy: 1.00 - ETA: 2s - loss: 0.0060 - accuracy: 1.00 - ETA: 2s - loss: 0.0059 - accuracy: 1.00 - ETA: 1s - loss: 0.0059 - accuracy: 1.00 - ETA: 0s - loss: 0.0059 - accuracy: 1.00 - ETA: 0s - loss: 0.0058 - accuracy: 1.00 - 19s 19ms/step - loss: 0.0057 - accuracy: 1.0000\n",
      "Epoch 20/50\n",
      "1008/1008 [==============================] - ETA: 16s - loss: 0.0048 - accuracy: 1.000 - ETA: 22s - loss: 0.0048 - accuracy: 1.000 - ETA: 20s - loss: 0.0068 - accuracy: 1.000 - ETA: 18s - loss: 0.0062 - accuracy: 1.000 - ETA: 17s - loss: 0.0057 - accuracy: 1.000 - ETA: 16s - loss: 0.0064 - accuracy: 1.000 - ETA: 15s - loss: 0.0062 - accuracy: 1.000 - ETA: 14s - loss: 0.0061 - accuracy: 1.000 - ETA: 13s - loss: 0.0058 - accuracy: 1.000 - ETA: 13s - loss: 0.0059 - accuracy: 1.000 - ETA: 12s - loss: 0.0056 - accuracy: 1.000 - ETA: 12s - loss: 0.0055 - accuracy: 1.000 - ETA: 11s - loss: 0.0055 - accuracy: 1.000 - ETA: 11s - loss: 0.0055 - accuracy: 1.000 - ETA: 10s - loss: 0.0055 - accuracy: 1.000 - ETA: 9s - loss: 0.0054 - accuracy: 1.000 - ETA: 9s - loss: 0.0055 - accuracy: 1.00 - ETA: 8s - loss: 0.0054 - accuracy: 1.00 - ETA: 7s - loss: 0.0053 - accuracy: 1.00 - ETA: 7s - loss: 0.0052 - accuracy: 1.00 - ETA: 6s - loss: 0.0051 - accuracy: 1.00 - ETA: 5s - loss: 0.0050 - accuracy: 1.00 - ETA: 5s - loss: 0.0053 - accuracy: 0.99 - ETA: 4s - loss: 0.0053 - accuracy: 0.99 - ETA: 4s - loss: 0.0052 - accuracy: 0.99 - ETA: 3s - loss: 0.0051 - accuracy: 0.99 - ETA: 2s - loss: 0.0051 - accuracy: 0.99 - ETA: 2s - loss: 0.0050 - accuracy: 0.99 - ETA: 1s - loss: 0.0053 - accuracy: 0.99 - ETA: 0s - loss: 0.0053 - accuracy: 0.99 - ETA: 0s - loss: 0.0052 - accuracy: 0.99 - 19s 19ms/step - loss: 0.0052 - accuracy: 0.9999\n",
      "Epoch 21/50\n"
     ]
    },
    {
     "name": "stdout",
     "output_type": "stream",
     "text": [
      "1008/1008 [==============================] - ETA: 19s - loss: 0.0030 - accuracy: 1.000 - ETA: 24s - loss: 0.0028 - accuracy: 1.000 - ETA: 21s - loss: 0.0032 - accuracy: 1.000 - ETA: 19s - loss: 0.0040 - accuracy: 1.000 - ETA: 17s - loss: 0.0042 - accuracy: 1.000 - ETA: 16s - loss: 0.0039 - accuracy: 1.000 - ETA: 15s - loss: 0.0041 - accuracy: 1.000 - ETA: 14s - loss: 0.0040 - accuracy: 1.000 - ETA: 13s - loss: 0.0038 - accuracy: 1.000 - ETA: 12s - loss: 0.0038 - accuracy: 1.000 - ETA: 12s - loss: 0.0039 - accuracy: 1.000 - ETA: 12s - loss: 0.0040 - accuracy: 1.000 - ETA: 11s - loss: 0.0041 - accuracy: 1.000 - ETA: 11s - loss: 0.0041 - accuracy: 1.000 - ETA: 10s - loss: 0.0043 - accuracy: 1.000 - ETA: 9s - loss: 0.0042 - accuracy: 1.000 - ETA: 9s - loss: 0.0043 - accuracy: 1.00 - ETA: 8s - loss: 0.0045 - accuracy: 1.00 - ETA: 7s - loss: 0.0044 - accuracy: 1.00 - ETA: 7s - loss: 0.0045 - accuracy: 1.00 - ETA: 6s - loss: 0.0047 - accuracy: 1.00 - ETA: 6s - loss: 0.0048 - accuracy: 1.00 - ETA: 5s - loss: 0.0051 - accuracy: 1.00 - ETA: 4s - loss: 0.0051 - accuracy: 1.00 - ETA: 4s - loss: 0.0052 - accuracy: 1.00 - ETA: 3s - loss: 0.0051 - accuracy: 1.00 - ETA: 2s - loss: 0.0051 - accuracy: 1.00 - ETA: 2s - loss: 0.0050 - accuracy: 1.00 - ETA: 1s - loss: 0.0051 - accuracy: 1.00 - ETA: 0s - loss: 0.0051 - accuracy: 1.00 - ETA: 0s - loss: 0.0051 - accuracy: 1.00 - 20s 19ms/step - loss: 0.0051 - accuracy: 1.0000\n",
      "Epoch 22/50\n",
      "1008/1008 [==============================] - ETA: 28s - loss: 0.0027 - accuracy: 1.000 - ETA: 26s - loss: 0.0040 - accuracy: 1.000 - ETA: 23s - loss: 0.0037 - accuracy: 1.000 - ETA: 21s - loss: 0.0048 - accuracy: 1.000 - ETA: 19s - loss: 0.0054 - accuracy: 1.000 - ETA: 18s - loss: 0.0049 - accuracy: 1.000 - ETA: 16s - loss: 0.0047 - accuracy: 1.000 - ETA: 15s - loss: 0.0049 - accuracy: 1.000 - ETA: 14s - loss: 0.0051 - accuracy: 1.000 - ETA: 15s - loss: 0.0050 - accuracy: 1.000 - ETA: 14s - loss: 0.0048 - accuracy: 1.000 - ETA: 13s - loss: 0.0047 - accuracy: 1.000 - ETA: 12s - loss: 0.0046 - accuracy: 1.000 - ETA: 11s - loss: 0.0045 - accuracy: 1.000 - ETA: 10s - loss: 0.0049 - accuracy: 1.000 - ETA: 10s - loss: 0.0053 - accuracy: 1.000 - ETA: 9s - loss: 0.0052 - accuracy: 1.000 - ETA: 8s - loss: 0.0053 - accuracy: 1.00 - ETA: 8s - loss: 0.0052 - accuracy: 1.00 - ETA: 7s - loss: 0.0051 - accuracy: 1.00 - ETA: 7s - loss: 0.0051 - accuracy: 1.00 - ETA: 6s - loss: 0.0051 - accuracy: 1.00 - ETA: 5s - loss: 0.0050 - accuracy: 1.00 - ETA: 4s - loss: 0.0050 - accuracy: 1.00 - ETA: 4s - loss: 0.0050 - accuracy: 1.00 - ETA: 3s - loss: 0.0049 - accuracy: 1.00 - ETA: 2s - loss: 0.0049 - accuracy: 1.00 - ETA: 2s - loss: 0.0048 - accuracy: 1.00 - ETA: 1s - loss: 0.0048 - accuracy: 1.00 - ETA: 0s - loss: 0.0048 - accuracy: 1.00 - ETA: 0s - loss: 0.0048 - accuracy: 1.00 - 21s 21ms/step - loss: 0.0048 - accuracy: 1.0000\n",
      "Epoch 23/50\n",
      "1008/1008 [==============================] - ETA: 17s - loss: 0.0025 - accuracy: 1.000 - ETA: 17s - loss: 0.0026 - accuracy: 1.000 - ETA: 16s - loss: 0.0036 - accuracy: 1.000 - ETA: 15s - loss: 0.0034 - accuracy: 1.000 - ETA: 15s - loss: 0.0039 - accuracy: 1.000 - ETA: 14s - loss: 0.0037 - accuracy: 1.000 - ETA: 13s - loss: 0.0039 - accuracy: 1.000 - ETA: 15s - loss: 0.0039 - accuracy: 1.000 - ETA: 14s - loss: 0.0039 - accuracy: 1.000 - ETA: 13s - loss: 0.0046 - accuracy: 1.000 - ETA: 13s - loss: 0.0044 - accuracy: 1.000 - ETA: 12s - loss: 0.0042 - accuracy: 1.000 - ETA: 11s - loss: 0.0041 - accuracy: 1.000 - ETA: 10s - loss: 0.0040 - accuracy: 1.000 - ETA: 10s - loss: 0.0039 - accuracy: 1.000 - ETA: 10s - loss: 0.0040 - accuracy: 1.000 - ETA: 9s - loss: 0.0039 - accuracy: 1.000 - ETA: 8s - loss: 0.0040 - accuracy: 1.00 - ETA: 8s - loss: 0.0039 - accuracy: 1.00 - ETA: 7s - loss: 0.0038 - accuracy: 1.00 - ETA: 6s - loss: 0.0038 - accuracy: 1.00 - ETA: 6s - loss: 0.0037 - accuracy: 1.00 - ETA: 5s - loss: 0.0038 - accuracy: 1.00 - ETA: 4s - loss: 0.0042 - accuracy: 0.99 - ETA: 4s - loss: 0.0042 - accuracy: 0.99 - ETA: 3s - loss: 0.0042 - accuracy: 0.99 - ETA: 2s - loss: 0.0044 - accuracy: 0.99 - ETA: 2s - loss: 0.0043 - accuracy: 0.99 - ETA: 1s - loss: 0.0043 - accuracy: 0.99 - ETA: 0s - loss: 0.0043 - accuracy: 0.99 - ETA: 0s - loss: 0.0043 - accuracy: 0.99 - 20s 20ms/step - loss: 0.0044 - accuracy: 0.9997\n",
      "Epoch 24/50\n",
      "1008/1008 [==============================] - ETA: 16s - loss: 0.0023 - accuracy: 1.000 - ETA: 17s - loss: 0.0033 - accuracy: 1.000 - ETA: 21s - loss: 0.0036 - accuracy: 1.000 - ETA: 19s - loss: 0.0038 - accuracy: 1.000 - ETA: 18s - loss: 0.0038 - accuracy: 1.000 - ETA: 17s - loss: 0.0039 - accuracy: 1.000 - ETA: 15s - loss: 0.0042 - accuracy: 1.000 - ETA: 15s - loss: 0.0040 - accuracy: 1.000 - ETA: 14s - loss: 0.0040 - accuracy: 1.000 - ETA: 13s - loss: 0.0044 - accuracy: 1.000 - ETA: 12s - loss: 0.0044 - accuracy: 1.000 - ETA: 12s - loss: 0.0043 - accuracy: 1.000 - ETA: 12s - loss: 0.0055 - accuracy: 0.999 - ETA: 11s - loss: 0.0057 - accuracy: 0.999 - ETA: 10s - loss: 0.0055 - accuracy: 0.999 - ETA: 9s - loss: 0.0055 - accuracy: 0.999 - ETA: 9s - loss: 0.0054 - accuracy: 0.99 - ETA: 8s - loss: 0.0055 - accuracy: 0.99 - ETA: 7s - loss: 0.0054 - accuracy: 0.99 - ETA: 7s - loss: 0.0054 - accuracy: 0.99 - ETA: 6s - loss: 0.0054 - accuracy: 0.99 - ETA: 6s - loss: 0.0055 - accuracy: 0.99 - ETA: 5s - loss: 0.0056 - accuracy: 0.99 - ETA: 4s - loss: 0.0055 - accuracy: 0.99 - ETA: 4s - loss: 0.0055 - accuracy: 0.99 - ETA: 3s - loss: 0.0055 - accuracy: 0.99 - ETA: 2s - loss: 0.0055 - accuracy: 0.99 - ETA: 2s - loss: 0.0055 - accuracy: 0.99 - ETA: 1s - loss: 0.0055 - accuracy: 0.99 - ETA: 0s - loss: 0.0059 - accuracy: 0.99 - ETA: 0s - loss: 0.0058 - accuracy: 0.99 - 20s 19ms/step - loss: 0.0058 - accuracy: 0.9997\n",
      "Epoch 25/50\n",
      "1008/1008 [==============================] - ETA: 39s - loss: 0.0062 - accuracy: 1.000 - ETA: 27s - loss: 0.0064 - accuracy: 1.000 - ETA: 23s - loss: 0.0058 - accuracy: 1.000 - ETA: 20s - loss: 0.0068 - accuracy: 1.000 - ETA: 18s - loss: 0.0062 - accuracy: 1.000 - ETA: 17s - loss: 0.0073 - accuracy: 1.000 - ETA: 16s - loss: 0.0065 - accuracy: 1.000 - ETA: 15s - loss: 0.0062 - accuracy: 1.000 - ETA: 14s - loss: 0.0057 - accuracy: 1.000 - ETA: 14s - loss: 0.0062 - accuracy: 1.000 - ETA: 14s - loss: 0.0066 - accuracy: 1.000 - ETA: 13s - loss: 0.0066 - accuracy: 1.000 - ETA: 12s - loss: 0.0063 - accuracy: 1.000 - ETA: 11s - loss: 0.0060 - accuracy: 1.000 - ETA: 10s - loss: 0.0057 - accuracy: 1.000 - ETA: 9s - loss: 0.0061 - accuracy: 1.000 - ETA: 9s - loss: 0.0061 - accuracy: 1.00 - ETA: 8s - loss: 0.0060 - accuracy: 1.00 - ETA: 7s - loss: 0.0058 - accuracy: 1.00 - ETA: 7s - loss: 0.0058 - accuracy: 1.00 - ETA: 6s - loss: 0.0059 - accuracy: 1.00 - ETA: 6s - loss: 0.0058 - accuracy: 1.00 - ETA: 5s - loss: 0.0058 - accuracy: 1.00 - ETA: 4s - loss: 0.0058 - accuracy: 1.00 - ETA: 4s - loss: 0.0058 - accuracy: 1.00 - ETA: 3s - loss: 0.0061 - accuracy: 0.99 - ETA: 2s - loss: 0.0061 - accuracy: 0.99 - ETA: 2s - loss: 0.0061 - accuracy: 0.99 - ETA: 1s - loss: 0.0060 - accuracy: 0.99 - ETA: 0s - loss: 0.0059 - accuracy: 0.99 - ETA: 0s - loss: 0.0058 - accuracy: 0.99 - 20s 20ms/step - loss: 0.0058 - accuracy: 0.9997\n",
      "Epoch 26/50\n"
     ]
    },
    {
     "name": "stdout",
     "output_type": "stream",
     "text": [
      "1008/1008 [==============================] - ETA: 16s - loss: 0.0086 - accuracy: 1.000 - ETA: 15s - loss: 0.0061 - accuracy: 1.000 - ETA: 15s - loss: 0.0073 - accuracy: 1.000 - ETA: 14s - loss: 0.0069 - accuracy: 1.000 - ETA: 14s - loss: 0.0064 - accuracy: 1.000 - ETA: 13s - loss: 0.0063 - accuracy: 1.000 - ETA: 13s - loss: 0.0066 - accuracy: 1.000 - ETA: 13s - loss: 0.0065 - accuracy: 1.000 - ETA: 13s - loss: 0.0062 - accuracy: 1.000 - ETA: 13s - loss: 0.0060 - accuracy: 1.000 - ETA: 12s - loss: 0.0061 - accuracy: 1.000 - ETA: 11s - loss: 0.0063 - accuracy: 1.000 - ETA: 11s - loss: 0.0062 - accuracy: 1.000 - ETA: 10s - loss: 0.0061 - accuracy: 1.000 - ETA: 9s - loss: 0.0061 - accuracy: 1.000 - ETA: 9s - loss: 0.0059 - accuracy: 1.00 - ETA: 8s - loss: 0.0059 - accuracy: 1.00 - ETA: 8s - loss: 0.0057 - accuracy: 1.00 - ETA: 7s - loss: 0.0057 - accuracy: 1.00 - ETA: 7s - loss: 0.0056 - accuracy: 1.00 - ETA: 6s - loss: 0.0058 - accuracy: 1.00 - ETA: 5s - loss: 0.0058 - accuracy: 1.00 - ETA: 5s - loss: 0.0057 - accuracy: 1.00 - ETA: 4s - loss: 0.0056 - accuracy: 1.00 - ETA: 3s - loss: 0.0055 - accuracy: 1.00 - ETA: 3s - loss: 0.0055 - accuracy: 1.00 - ETA: 2s - loss: 0.0054 - accuracy: 1.00 - ETA: 2s - loss: 0.0053 - accuracy: 1.00 - ETA: 1s - loss: 0.0053 - accuracy: 1.00 - ETA: 0s - loss: 0.0052 - accuracy: 1.00 - ETA: 0s - loss: 0.0052 - accuracy: 1.00 - 20s 19ms/step - loss: 0.0057 - accuracy: 1.0000\n",
      "Epoch 27/50\n",
      "1008/1008 [==============================] - ETA: 16s - loss: 0.0038 - accuracy: 1.000 - ETA: 17s - loss: 0.0047 - accuracy: 1.000 - ETA: 16s - loss: 0.0053 - accuracy: 1.000 - ETA: 16s - loss: 0.0052 - accuracy: 1.000 - ETA: 18s - loss: 0.0053 - accuracy: 1.000 - ETA: 17s - loss: 0.0054 - accuracy: 1.000 - ETA: 16s - loss: 0.0064 - accuracy: 1.000 - ETA: 15s - loss: 0.0065 - accuracy: 1.000 - ETA: 14s - loss: 0.0061 - accuracy: 1.000 - ETA: 13s - loss: 0.0075 - accuracy: 0.999 - ETA: 12s - loss: 0.0077 - accuracy: 0.999 - ETA: 11s - loss: 0.0075 - accuracy: 0.999 - ETA: 11s - loss: 0.0086 - accuracy: 0.999 - ETA: 11s - loss: 0.0089 - accuracy: 0.998 - ETA: 10s - loss: 0.0089 - accuracy: 0.998 - ETA: 9s - loss: 0.0092 - accuracy: 0.998 - ETA: 9s - loss: 0.0090 - accuracy: 0.99 - ETA: 8s - loss: 0.0109 - accuracy: 0.99 - ETA: 7s - loss: 0.0114 - accuracy: 0.99 - ETA: 7s - loss: 0.0114 - accuracy: 0.99 - ETA: 6s - loss: 0.0115 - accuracy: 0.99 - ETA: 5s - loss: 0.0115 - accuracy: 0.99 - ETA: 5s - loss: 0.0127 - accuracy: 0.99 - ETA: 4s - loss: 0.0136 - accuracy: 0.99 - ETA: 4s - loss: 0.0140 - accuracy: 0.99 - ETA: 3s - loss: 0.0151 - accuracy: 0.99 - ETA: 2s - loss: 0.0158 - accuracy: 0.99 - ETA: 2s - loss: 0.0160 - accuracy: 0.99 - ETA: 1s - loss: 0.0161 - accuracy: 0.99 - ETA: 0s - loss: 0.0166 - accuracy: 0.99 - ETA: 0s - loss: 0.0168 - accuracy: 0.99 - 20s 19ms/step - loss: 0.0174 - accuracy: 0.9949\n",
      "Epoch 28/50\n",
      "1008/1008 [==============================] - ETA: 30s - loss: 0.0197 - accuracy: 1.000 - ETA: 26s - loss: 0.0247 - accuracy: 0.995 - ETA: 22s - loss: 0.0239 - accuracy: 0.995 - ETA: 20s - loss: 0.0211 - accuracy: 0.996 - ETA: 19s - loss: 0.0283 - accuracy: 0.992 - ETA: 17s - loss: 0.0266 - accuracy: 0.994 - ETA: 16s - loss: 0.0351 - accuracy: 0.991 - ETA: 15s - loss: 0.0369 - accuracy: 0.990 - ETA: 14s - loss: 0.0389 - accuracy: 0.989 - ETA: 14s - loss: 0.0371 - accuracy: 0.989 - ETA: 14s - loss: 0.0394 - accuracy: 0.988 - ETA: 13s - loss: 0.0391 - accuracy: 0.988 - ETA: 12s - loss: 0.0392 - accuracy: 0.988 - ETA: 11s - loss: 0.0469 - accuracy: 0.985 - ETA: 10s - loss: 0.0447 - accuracy: 0.986 - ETA: 10s - loss: 0.0470 - accuracy: 0.984 - ETA: 9s - loss: 0.0495 - accuracy: 0.983 - ETA: 8s - loss: 0.0539 - accuracy: 0.98 - ETA: 7s - loss: 0.0538 - accuracy: 0.98 - ETA: 7s - loss: 0.0579 - accuracy: 0.97 - ETA: 6s - loss: 0.0581 - accuracy: 0.97 - ETA: 6s - loss: 0.0598 - accuracy: 0.97 - ETA: 5s - loss: 0.0603 - accuracy: 0.97 - ETA: 4s - loss: 0.0642 - accuracy: 0.97 - ETA: 4s - loss: 0.0648 - accuracy: 0.97 - ETA: 3s - loss: 0.0659 - accuracy: 0.97 - ETA: 2s - loss: 0.0670 - accuracy: 0.97 - ETA: 2s - loss: 0.0690 - accuracy: 0.97 - ETA: 1s - loss: 0.0712 - accuracy: 0.97 - ETA: 0s - loss: 0.0724 - accuracy: 0.97 - ETA: 0s - loss: 0.0727 - accuracy: 0.97 - 20s 20ms/step - loss: 0.0738 - accuracy: 0.9726\n",
      "Epoch 29/50\n",
      "1008/1008 [==============================] - ETA: 16s - loss: 0.1098 - accuracy: 0.964 - ETA: 16s - loss: 0.0894 - accuracy: 0.957 - ETA: 16s - loss: 0.1051 - accuracy: 0.947 - ETA: 15s - loss: 0.1067 - accuracy: 0.946 - ETA: 15s - loss: 0.0988 - accuracy: 0.951 - ETA: 14s - loss: 0.0984 - accuracy: 0.953 - ETA: 13s - loss: 0.1010 - accuracy: 0.956 - ETA: 13s - loss: 0.1013 - accuracy: 0.957 - ETA: 14s - loss: 0.0956 - accuracy: 0.960 - ETA: 13s - loss: 0.0955 - accuracy: 0.959 - ETA: 12s - loss: 0.0973 - accuracy: 0.959 - ETA: 11s - loss: 0.0950 - accuracy: 0.960 - ETA: 11s - loss: 0.0941 - accuracy: 0.960 - ETA: 10s - loss: 0.0949 - accuracy: 0.960 - ETA: 9s - loss: 0.0982 - accuracy: 0.958 - ETA: 9s - loss: 0.0969 - accuracy: 0.95 - ETA: 8s - loss: 0.0961 - accuracy: 0.95 - ETA: 8s - loss: 0.0980 - accuracy: 0.95 - ETA: 7s - loss: 0.0973 - accuracy: 0.95 - ETA: 7s - loss: 0.0978 - accuracy: 0.95 - ETA: 6s - loss: 0.0974 - accuracy: 0.95 - ETA: 5s - loss: 0.0990 - accuracy: 0.95 - ETA: 5s - loss: 0.1026 - accuracy: 0.95 - ETA: 4s - loss: 0.1024 - accuracy: 0.95 - ETA: 3s - loss: 0.1009 - accuracy: 0.95 - ETA: 3s - loss: 0.1009 - accuracy: 0.95 - ETA: 2s - loss: 0.0987 - accuracy: 0.95 - ETA: 2s - loss: 0.1008 - accuracy: 0.95 - ETA: 1s - loss: 0.1000 - accuracy: 0.96 - ETA: 0s - loss: 0.1037 - accuracy: 0.95 - ETA: 0s - loss: 0.1038 - accuracy: 0.95 - 19s 19ms/step - loss: 0.1031 - accuracy: 0.9586\n",
      "Epoch 30/50\n",
      "1008/1008 [==============================] - ETA: 17s - loss: 0.0688 - accuracy: 0.977 - ETA: 16s - loss: 0.0730 - accuracy: 0.982 - ETA: 15s - loss: 0.0783 - accuracy: 0.976 - ETA: 15s - loss: 0.0741 - accuracy: 0.978 - ETA: 17s - loss: 0.0838 - accuracy: 0.976 - ETA: 16s - loss: 0.0810 - accuracy: 0.975 - ETA: 16s - loss: 0.0744 - accuracy: 0.977 - ETA: 15s - loss: 0.0779 - accuracy: 0.974 - ETA: 14s - loss: 0.0837 - accuracy: 0.971 - ETA: 13s - loss: 0.0786 - accuracy: 0.974 - ETA: 12s - loss: 0.0831 - accuracy: 0.971 - ETA: 11s - loss: 0.0803 - accuracy: 0.972 - ETA: 11s - loss: 0.0772 - accuracy: 0.974 - ETA: 11s - loss: 0.0782 - accuracy: 0.973 - ETA: 10s - loss: 0.0774 - accuracy: 0.973 - ETA: 9s - loss: 0.0761 - accuracy: 0.973 - ETA: 9s - loss: 0.0767 - accuracy: 0.97 - ETA: 8s - loss: 0.0756 - accuracy: 0.97 - ETA: 7s - loss: 0.0737 - accuracy: 0.97 - ETA: 7s - loss: 0.0729 - accuracy: 0.97 - ETA: 6s - loss: 0.0722 - accuracy: 0.97 - ETA: 5s - loss: 0.0722 - accuracy: 0.97 - ETA: 5s - loss: 0.0707 - accuracy: 0.97 - ETA: 4s - loss: 0.0688 - accuracy: 0.97 - ETA: 4s - loss: 0.0682 - accuracy: 0.97 - ETA: 3s - loss: 0.0682 - accuracy: 0.97 - ETA: 2s - loss: 0.0684 - accuracy: 0.97 - ETA: 2s - loss: 0.0692 - accuracy: 0.97 - ETA: 1s - loss: 0.0683 - accuracy: 0.97 - ETA: 0s - loss: 0.0674 - accuracy: 0.97 - ETA: 0s - loss: 0.0667 - accuracy: 0.97 - 20s 20ms/step - loss: 0.0668 - accuracy: 0.9782\n",
      "Epoch 31/50\n"
     ]
    },
    {
     "name": "stdout",
     "output_type": "stream",
     "text": [
      "1008/1008 [==============================] - ETA: 17s - loss: 0.0404 - accuracy: 0.982 - ETA: 16s - loss: 0.0432 - accuracy: 0.982 - ETA: 16s - loss: 0.0400 - accuracy: 0.985 - ETA: 15s - loss: 0.0383 - accuracy: 0.986 - ETA: 15s - loss: 0.0356 - accuracy: 0.987 - ETA: 14s - loss: 0.0342 - accuracy: 0.988 - ETA: 14s - loss: 0.0333 - accuracy: 0.989 - ETA: 13s - loss: 0.0406 - accuracy: 0.987 - ETA: 13s - loss: 0.0399 - accuracy: 0.987 - ETA: 13s - loss: 0.0376 - accuracy: 0.988 - ETA: 13s - loss: 0.0358 - accuracy: 0.989 - ETA: 12s - loss: 0.0345 - accuracy: 0.990 - ETA: 11s - loss: 0.0349 - accuracy: 0.990 - ETA: 10s - loss: 0.0350 - accuracy: 0.990 - ETA: 10s - loss: 0.0360 - accuracy: 0.989 - ETA: 9s - loss: 0.0370 - accuracy: 0.988 - ETA: 8s - loss: 0.0366 - accuracy: 0.98 - ETA: 8s - loss: 0.0365 - accuracy: 0.98 - ETA: 8s - loss: 0.0365 - accuracy: 0.98 - ETA: 7s - loss: 0.0367 - accuracy: 0.98 - ETA: 6s - loss: 0.0369 - accuracy: 0.98 - ETA: 6s - loss: 0.0362 - accuracy: 0.98 - ETA: 5s - loss: 0.0358 - accuracy: 0.98 - ETA: 4s - loss: 0.0376 - accuracy: 0.98 - ETA: 4s - loss: 0.0373 - accuracy: 0.98 - ETA: 3s - loss: 0.0375 - accuracy: 0.98 - ETA: 2s - loss: 0.0371 - accuracy: 0.98 - ETA: 2s - loss: 0.0362 - accuracy: 0.98 - ETA: 1s - loss: 0.0361 - accuracy: 0.98 - ETA: 0s - loss: 0.0361 - accuracy: 0.98 - ETA: 0s - loss: 0.0355 - accuracy: 0.98 - 20s 20ms/step - loss: 0.0352 - accuracy: 0.9897\n",
      "Epoch 32/50\n",
      "1008/1008 [==============================] - ETA: 18s - loss: 0.0256 - accuracy: 0.991 - ETA: 18s - loss: 0.0280 - accuracy: 0.988 - ETA: 17s - loss: 0.0276 - accuracy: 0.992 - ETA: 17s - loss: 0.0269 - accuracy: 0.992 - ETA: 16s - loss: 0.0252 - accuracy: 0.993 - ETA: 17s - loss: 0.0260 - accuracy: 0.993 - ETA: 17s - loss: 0.0236 - accuracy: 0.994 - ETA: 16s - loss: 0.0221 - accuracy: 0.995 - ETA: 15s - loss: 0.0226 - accuracy: 0.994 - ETA: 14s - loss: 0.0245 - accuracy: 0.993 - ETA: 14s - loss: 0.0245 - accuracy: 0.993 - ETA: 13s - loss: 0.0238 - accuracy: 0.993 - ETA: 12s - loss: 0.0226 - accuracy: 0.994 - ETA: 11s - loss: 0.0227 - accuracy: 0.993 - ETA: 10s - loss: 0.0230 - accuracy: 0.993 - ETA: 10s - loss: 0.0225 - accuracy: 0.993 - ETA: 9s - loss: 0.0216 - accuracy: 0.994 - ETA: 9s - loss: 0.0211 - accuracy: 0.99 - ETA: 8s - loss: 0.0205 - accuracy: 0.99 - ETA: 7s - loss: 0.0208 - accuracy: 0.99 - ETA: 7s - loss: 0.0211 - accuracy: 0.99 - ETA: 6s - loss: 0.0214 - accuracy: 0.99 - ETA: 5s - loss: 0.0211 - accuracy: 0.99 - ETA: 5s - loss: 0.0205 - accuracy: 0.99 - ETA: 4s - loss: 0.0210 - accuracy: 0.99 - ETA: 3s - loss: 0.0206 - accuracy: 0.99 - ETA: 3s - loss: 0.0208 - accuracy: 0.99 - ETA: 2s - loss: 0.0208 - accuracy: 0.99 - ETA: 1s - loss: 0.0213 - accuracy: 0.99 - ETA: 1s - loss: 0.0215 - accuracy: 0.99 - ETA: 0s - loss: 0.0222 - accuracy: 0.99 - 21s 21ms/step - loss: 0.0221 - accuracy: 0.9949\n",
      "Epoch 33/50\n",
      "1008/1008 [==============================] - ETA: 16s - loss: 0.0086 - accuracy: 1.000 - ETA: 15s - loss: 0.0114 - accuracy: 1.000 - ETA: 15s - loss: 0.0118 - accuracy: 1.000 - ETA: 19s - loss: 0.0116 - accuracy: 1.000 - ETA: 18s - loss: 0.0116 - accuracy: 1.000 - ETA: 17s - loss: 0.0118 - accuracy: 1.000 - ETA: 16s - loss: 0.0118 - accuracy: 1.000 - ETA: 15s - loss: 0.0123 - accuracy: 1.000 - ETA: 14s - loss: 0.0125 - accuracy: 0.999 - ETA: 13s - loss: 0.0121 - accuracy: 0.999 - ETA: 12s - loss: 0.0123 - accuracy: 0.999 - ETA: 12s - loss: 0.0132 - accuracy: 0.998 - ETA: 12s - loss: 0.0142 - accuracy: 0.998 - ETA: 11s - loss: 0.0137 - accuracy: 0.998 - ETA: 10s - loss: 0.0133 - accuracy: 0.998 - ETA: 10s - loss: 0.0144 - accuracy: 0.998 - ETA: 9s - loss: 0.0145 - accuracy: 0.998 - ETA: 8s - loss: 0.0152 - accuracy: 0.99 - ETA: 7s - loss: 0.0149 - accuracy: 0.99 - ETA: 7s - loss: 0.0146 - accuracy: 0.99 - ETA: 6s - loss: 0.0143 - accuracy: 0.99 - ETA: 6s - loss: 0.0142 - accuracy: 0.99 - ETA: 5s - loss: 0.0140 - accuracy: 0.99 - ETA: 4s - loss: 0.0136 - accuracy: 0.99 - ETA: 4s - loss: 0.0135 - accuracy: 0.99 - ETA: 3s - loss: 0.0137 - accuracy: 0.99 - ETA: 2s - loss: 0.0142 - accuracy: 0.99 - ETA: 2s - loss: 0.0148 - accuracy: 0.99 - ETA: 1s - loss: 0.0149 - accuracy: 0.99 - ETA: 0s - loss: 0.0145 - accuracy: 0.99 - ETA: 0s - loss: 0.0146 - accuracy: 0.99 - 20s 20ms/step - loss: 0.0147 - accuracy: 0.9972\n",
      "Epoch 34/50\n",
      "1008/1008 [==============================] - ETA: 17s - loss: 0.0089 - accuracy: 1.000 - ETA: 17s - loss: 0.0074 - accuracy: 1.000 - ETA: 16s - loss: 0.0088 - accuracy: 1.000 - ETA: 15s - loss: 0.0075 - accuracy: 1.000 - ETA: 15s - loss: 0.0095 - accuracy: 1.000 - ETA: 14s - loss: 0.0093 - accuracy: 1.000 - ETA: 14s - loss: 0.0094 - accuracy: 1.000 - ETA: 13s - loss: 0.0098 - accuracy: 1.000 - ETA: 14s - loss: 0.0093 - accuracy: 1.000 - ETA: 13s - loss: 0.0091 - accuracy: 1.000 - ETA: 13s - loss: 0.0091 - accuracy: 1.000 - ETA: 12s - loss: 0.0096 - accuracy: 1.000 - ETA: 11s - loss: 0.0095 - accuracy: 1.000 - ETA: 10s - loss: 0.0098 - accuracy: 0.999 - ETA: 10s - loss: 0.0098 - accuracy: 0.999 - ETA: 9s - loss: 0.0116 - accuracy: 0.998 - ETA: 8s - loss: 0.0115 - accuracy: 0.99 - ETA: 8s - loss: 0.0114 - accuracy: 0.99 - ETA: 7s - loss: 0.0114 - accuracy: 0.99 - ETA: 7s - loss: 0.0110 - accuracy: 0.99 - ETA: 6s - loss: 0.0107 - accuracy: 0.99 - ETA: 5s - loss: 0.0107 - accuracy: 0.99 - ETA: 5s - loss: 0.0104 - accuracy: 0.99 - ETA: 4s - loss: 0.0102 - accuracy: 0.99 - ETA: 4s - loss: 0.0100 - accuracy: 0.99 - ETA: 3s - loss: 0.0099 - accuracy: 0.99 - ETA: 2s - loss: 0.0098 - accuracy: 0.99 - ETA: 2s - loss: 0.0097 - accuracy: 0.99 - ETA: 1s - loss: 0.0098 - accuracy: 0.99 - ETA: 0s - loss: 0.0103 - accuracy: 0.99 - ETA: 0s - loss: 0.0108 - accuracy: 0.99 - 20s 20ms/step - loss: 0.0107 - accuracy: 0.9987\n",
      "Epoch 35/50\n",
      "1008/1008 [==============================] - ETA: 17s - loss: 0.0055 - accuracy: 1.000 - ETA: 16s - loss: 0.0047 - accuracy: 1.000 - ETA: 16s - loss: 0.0057 - accuracy: 1.000 - ETA: 15s - loss: 0.0047 - accuracy: 1.000 - ETA: 15s - loss: 0.0045 - accuracy: 1.000 - ETA: 14s - loss: 0.0066 - accuracy: 0.998 - ETA: 13s - loss: 0.0066 - accuracy: 0.998 - ETA: 13s - loss: 0.0062 - accuracy: 0.998 - ETA: 13s - loss: 0.0065 - accuracy: 0.999 - ETA: 13s - loss: 0.0063 - accuracy: 0.999 - ETA: 12s - loss: 0.0061 - accuracy: 0.999 - ETA: 12s - loss: 0.0059 - accuracy: 0.999 - ETA: 11s - loss: 0.0061 - accuracy: 0.999 - ETA: 10s - loss: 0.0061 - accuracy: 0.999 - ETA: 10s - loss: 0.0060 - accuracy: 0.999 - ETA: 9s - loss: 0.0059 - accuracy: 0.999 - ETA: 8s - loss: 0.0061 - accuracy: 0.99 - ETA: 8s - loss: 0.0059 - accuracy: 0.99 - ETA: 7s - loss: 0.0059 - accuracy: 0.99 - ETA: 7s - loss: 0.0059 - accuracy: 0.99 - ETA: 6s - loss: 0.0057 - accuracy: 0.99 - ETA: 5s - loss: 0.0059 - accuracy: 0.99 - ETA: 5s - loss: 0.0061 - accuracy: 0.99 - ETA: 4s - loss: 0.0060 - accuracy: 0.99 - ETA: 4s - loss: 0.0061 - accuracy: 0.99 - ETA: 3s - loss: 0.0061 - accuracy: 0.99 - ETA: 2s - loss: 0.0062 - accuracy: 0.99 - ETA: 2s - loss: 0.0063 - accuracy: 0.99 - ETA: 1s - loss: 0.0062 - accuracy: 0.99 - ETA: 0s - loss: 0.0061 - accuracy: 0.99 - ETA: 0s - loss: 0.0062 - accuracy: 0.99 - 20s 20ms/step - loss: 0.0062 - accuracy: 0.9996\n",
      "Epoch 36/50\n"
     ]
    },
    {
     "name": "stdout",
     "output_type": "stream",
     "text": [
      "1008/1008 [==============================] - ETA: 17s - loss: 0.0042 - accuracy: 1.000 - ETA: 17s - loss: 0.0038 - accuracy: 1.000 - ETA: 16s - loss: 0.0047 - accuracy: 1.000 - ETA: 16s - loss: 0.0081 - accuracy: 0.997 - ETA: 15s - loss: 0.0069 - accuracy: 0.998 - ETA: 14s - loss: 0.0063 - accuracy: 0.998 - ETA: 13s - loss: 0.0065 - accuracy: 0.998 - ETA: 13s - loss: 0.0063 - accuracy: 0.998 - ETA: 12s - loss: 0.0058 - accuracy: 0.999 - ETA: 13s - loss: 0.0057 - accuracy: 0.999 - ETA: 12s - loss: 0.0059 - accuracy: 0.999 - ETA: 12s - loss: 0.0057 - accuracy: 0.999 - ETA: 11s - loss: 0.0056 - accuracy: 0.999 - ETA: 10s - loss: 0.0057 - accuracy: 0.999 - ETA: 10s - loss: 0.0057 - accuracy: 0.999 - ETA: 9s - loss: 0.0055 - accuracy: 0.999 - ETA: 8s - loss: 0.0058 - accuracy: 0.99 - ETA: 8s - loss: 0.0057 - accuracy: 0.99 - ETA: 7s - loss: 0.0056 - accuracy: 0.99 - ETA: 6s - loss: 0.0054 - accuracy: 0.99 - ETA: 6s - loss: 0.0053 - accuracy: 0.99 - ETA: 5s - loss: 0.0051 - accuracy: 0.99 - ETA: 5s - loss: 0.0053 - accuracy: 0.99 - ETA: 4s - loss: 0.0052 - accuracy: 0.99 - ETA: 4s - loss: 0.0050 - accuracy: 0.99 - ETA: 3s - loss: 0.0050 - accuracy: 0.99 - ETA: 2s - loss: 0.0050 - accuracy: 0.99 - ETA: 2s - loss: 0.0049 - accuracy: 0.99 - ETA: 1s - loss: 0.0048 - accuracy: 0.99 - ETA: 0s - loss: 0.0047 - accuracy: 0.99 - ETA: 0s - loss: 0.0047 - accuracy: 0.99 - 20s 20ms/step - loss: 0.0049 - accuracy: 0.9996\n",
      "Epoch 37/50\n",
      "1008/1008 [==============================] - ETA: 17s - loss: 0.0042 - accuracy: 1.000 - ETA: 17s - loss: 0.0045 - accuracy: 1.000 - ETA: 17s - loss: 0.0049 - accuracy: 1.000 - ETA: 16s - loss: 0.0041 - accuracy: 1.000 - ETA: 15s - loss: 0.0041 - accuracy: 1.000 - ETA: 14s - loss: 0.0038 - accuracy: 1.000 - ETA: 15s - loss: 0.0041 - accuracy: 1.000 - ETA: 15s - loss: 0.0040 - accuracy: 1.000 - ETA: 14s - loss: 0.0047 - accuracy: 1.000 - ETA: 13s - loss: 0.0045 - accuracy: 1.000 - ETA: 13s - loss: 0.0044 - accuracy: 1.000 - ETA: 12s - loss: 0.0047 - accuracy: 1.000 - ETA: 11s - loss: 0.0045 - accuracy: 1.000 - ETA: 10s - loss: 0.0045 - accuracy: 1.000 - ETA: 10s - loss: 0.0045 - accuracy: 1.000 - ETA: 9s - loss: 0.0049 - accuracy: 1.000 - ETA: 9s - loss: 0.0047 - accuracy: 1.00 - ETA: 8s - loss: 0.0046 - accuracy: 1.00 - ETA: 8s - loss: 0.0045 - accuracy: 1.00 - ETA: 7s - loss: 0.0045 - accuracy: 1.00 - ETA: 6s - loss: 0.0044 - accuracy: 1.00 - ETA: 5s - loss: 0.0045 - accuracy: 1.00 - ETA: 5s - loss: 0.0044 - accuracy: 1.00 - ETA: 4s - loss: 0.0044 - accuracy: 1.00 - ETA: 4s - loss: 0.0043 - accuracy: 1.00 - ETA: 3s - loss: 0.0042 - accuracy: 1.00 - ETA: 2s - loss: 0.0043 - accuracy: 1.00 - ETA: 2s - loss: 0.0042 - accuracy: 1.00 - ETA: 1s - loss: 0.0042 - accuracy: 1.00 - ETA: 0s - loss: 0.0041 - accuracy: 1.00 - ETA: 0s - loss: 0.0041 - accuracy: 1.00 - 20s 20ms/step - loss: 0.0041 - accuracy: 1.0000\n",
      "Epoch 38/50\n",
      "1008/1008 [==============================] - ETA: 16s - loss: 0.0016 - accuracy: 1.000 - ETA: 17s - loss: 0.0016 - accuracy: 1.000 - ETA: 16s - loss: 0.0024 - accuracy: 1.000 - ETA: 15s - loss: 0.0029 - accuracy: 1.000 - ETA: 15s - loss: 0.0033 - accuracy: 1.000 - ETA: 15s - loss: 0.0039 - accuracy: 1.000 - ETA: 16s - loss: 0.0036 - accuracy: 1.000 - ETA: 15s - loss: 0.0035 - accuracy: 1.000 - ETA: 14s - loss: 0.0032 - accuracy: 1.000 - ETA: 13s - loss: 0.0031 - accuracy: 1.000 - ETA: 12s - loss: 0.0030 - accuracy: 1.000 - ETA: 12s - loss: 0.0032 - accuracy: 1.000 - ETA: 11s - loss: 0.0034 - accuracy: 1.000 - ETA: 10s - loss: 0.0034 - accuracy: 1.000 - ETA: 10s - loss: 0.0033 - accuracy: 1.000 - ETA: 9s - loss: 0.0034 - accuracy: 1.000 - ETA: 9s - loss: 0.0034 - accuracy: 1.00 - ETA: 8s - loss: 0.0035 - accuracy: 1.00 - ETA: 8s - loss: 0.0036 - accuracy: 1.00 - ETA: 7s - loss: 0.0037 - accuracy: 1.00 - ETA: 6s - loss: 0.0037 - accuracy: 1.00 - ETA: 6s - loss: 0.0037 - accuracy: 1.00 - ETA: 5s - loss: 0.0036 - accuracy: 1.00 - ETA: 4s - loss: 0.0037 - accuracy: 1.00 - ETA: 4s - loss: 0.0037 - accuracy: 1.00 - ETA: 3s - loss: 0.0037 - accuracy: 1.00 - ETA: 2s - loss: 0.0037 - accuracy: 1.00 - ETA: 2s - loss: 0.0037 - accuracy: 1.00 - ETA: 1s - loss: 0.0036 - accuracy: 1.00 - ETA: 0s - loss: 0.0036 - accuracy: 1.00 - ETA: 0s - loss: 0.0035 - accuracy: 1.00 - 20s 20ms/step - loss: 0.0036 - accuracy: 1.0000\n",
      "Epoch 39/50\n",
      "1008/1008 [==============================] - ETA: 16s - loss: 0.0064 - accuracy: 1.000 - ETA: 16s - loss: 0.0050 - accuracy: 1.000 - ETA: 15s - loss: 0.0048 - accuracy: 1.000 - ETA: 15s - loss: 0.0040 - accuracy: 1.000 - ETA: 15s - loss: 0.0046 - accuracy: 1.000 - ETA: 16s - loss: 0.0054 - accuracy: 1.000 - ETA: 16s - loss: 0.0047 - accuracy: 1.000 - ETA: 15s - loss: 0.0046 - accuracy: 1.000 - ETA: 14s - loss: 0.0043 - accuracy: 1.000 - ETA: 13s - loss: 0.0042 - accuracy: 1.000 - ETA: 12s - loss: 0.0039 - accuracy: 1.000 - ETA: 12s - loss: 0.0036 - accuracy: 1.000 - ETA: 11s - loss: 0.0035 - accuracy: 1.000 - ETA: 10s - loss: 0.0035 - accuracy: 1.000 - ETA: 10s - loss: 0.0035 - accuracy: 1.000 - ETA: 10s - loss: 0.0034 - accuracy: 1.000 - ETA: 9s - loss: 0.0033 - accuracy: 1.000 - ETA: 8s - loss: 0.0032 - accuracy: 1.00 - ETA: 8s - loss: 0.0031 - accuracy: 1.00 - ETA: 7s - loss: 0.0031 - accuracy: 1.00 - ETA: 6s - loss: 0.0030 - accuracy: 1.00 - ETA: 6s - loss: 0.0032 - accuracy: 1.00 - ETA: 5s - loss: 0.0031 - accuracy: 1.00 - ETA: 4s - loss: 0.0031 - accuracy: 1.00 - ETA: 4s - loss: 0.0031 - accuracy: 1.00 - ETA: 3s - loss: 0.0031 - accuracy: 1.00 - ETA: 2s - loss: 0.0032 - accuracy: 1.00 - ETA: 2s - loss: 0.0033 - accuracy: 1.00 - ETA: 1s - loss: 0.0033 - accuracy: 1.00 - ETA: 0s - loss: 0.0034 - accuracy: 1.00 - ETA: 0s - loss: 0.0035 - accuracy: 1.00 - 20s 20ms/step - loss: 0.0035 - accuracy: 1.0000\n",
      "Epoch 40/50\n",
      "1008/1008 [==============================] - ETA: 19s - loss: 0.0016 - accuracy: 1.000 - ETA: 19s - loss: 0.0015 - accuracy: 1.000 - ETA: 22s - loss: 0.0016 - accuracy: 1.000 - ETA: 20s - loss: 0.0017 - accuracy: 1.000 - ETA: 19s - loss: 0.0016 - accuracy: 1.000 - ETA: 17s - loss: 0.0017 - accuracy: 1.000 - ETA: 16s - loss: 0.0018 - accuracy: 1.000 - ETA: 16s - loss: 0.0018 - accuracy: 1.000 - ETA: 15s - loss: 0.0019 - accuracy: 1.000 - ETA: 14s - loss: 0.0018 - accuracy: 1.000 - ETA: 14s - loss: 0.0018 - accuracy: 1.000 - ETA: 13s - loss: 0.0020 - accuracy: 1.000 - ETA: 12s - loss: 0.0020 - accuracy: 1.000 - ETA: 12s - loss: 0.0020 - accuracy: 1.000 - ETA: 11s - loss: 0.0020 - accuracy: 1.000 - ETA: 10s - loss: 0.0020 - accuracy: 1.000 - ETA: 9s - loss: 0.0020 - accuracy: 1.000 - ETA: 9s - loss: 0.0019 - accuracy: 1.00 - ETA: 8s - loss: 0.0019 - accuracy: 1.00 - ETA: 8s - loss: 0.0019 - accuracy: 1.00 - ETA: 7s - loss: 0.0019 - accuracy: 1.00 - ETA: 6s - loss: 0.0021 - accuracy: 1.00 - ETA: 5s - loss: 0.0022 - accuracy: 1.00 - ETA: 5s - loss: 0.0022 - accuracy: 1.00 - ETA: 4s - loss: 0.0022 - accuracy: 1.00 - ETA: 3s - loss: 0.0022 - accuracy: 1.00 - ETA: 3s - loss: 0.0021 - accuracy: 1.00 - ETA: 2s - loss: 0.0021 - accuracy: 1.00 - ETA: 1s - loss: 0.0021 - accuracy: 1.00 - ETA: 1s - loss: 0.0021 - accuracy: 1.00 - ETA: 0s - loss: 0.0021 - accuracy: 1.00 - 22s 22ms/step - loss: 0.0021 - accuracy: 1.0000\n",
      "Epoch 41/50\n"
     ]
    },
    {
     "name": "stdout",
     "output_type": "stream",
     "text": [
      "1008/1008 [==============================] - ETA: 17s - loss: 0.0025 - accuracy: 1.000 - ETA: 19s - loss: 0.0095 - accuracy: 0.997 - ETA: 18s - loss: 0.0074 - accuracy: 0.998 - ETA: 17s - loss: 0.0059 - accuracy: 0.998 - ETA: 18s - loss: 0.0048 - accuracy: 0.999 - ETA: 18s - loss: 0.0045 - accuracy: 0.999 - ETA: 17s - loss: 0.0043 - accuracy: 0.999 - ETA: 16s - loss: 0.0039 - accuracy: 0.999 - ETA: 15s - loss: 0.0038 - accuracy: 0.999 - ETA: 14s - loss: 0.0036 - accuracy: 0.999 - ETA: 13s - loss: 0.0033 - accuracy: 0.999 - ETA: 12s - loss: 0.0033 - accuracy: 0.999 - ETA: 12s - loss: 0.0031 - accuracy: 0.999 - ETA: 11s - loss: 0.0030 - accuracy: 0.999 - ETA: 11s - loss: 0.0029 - accuracy: 0.999 - ETA: 10s - loss: 0.0028 - accuracy: 0.999 - ETA: 9s - loss: 0.0027 - accuracy: 0.999 - ETA: 9s - loss: 0.0028 - accuracy: 0.99 - ETA: 8s - loss: 0.0027 - accuracy: 0.99 - ETA: 7s - loss: 0.0027 - accuracy: 0.99 - ETA: 6s - loss: 0.0026 - accuracy: 0.99 - ETA: 6s - loss: 0.0026 - accuracy: 0.99 - ETA: 5s - loss: 0.0032 - accuracy: 0.99 - ETA: 4s - loss: 0.0032 - accuracy: 0.99 - ETA: 4s - loss: 0.0032 - accuracy: 0.99 - ETA: 3s - loss: 0.0032 - accuracy: 0.99 - ETA: 3s - loss: 0.0033 - accuracy: 0.99 - ETA: 2s - loss: 0.0032 - accuracy: 0.99 - ETA: 1s - loss: 0.0034 - accuracy: 0.99 - ETA: 0s - loss: 0.0033 - accuracy: 0.99 - ETA: 0s - loss: 0.0032 - accuracy: 0.99 - 21s 21ms/step - loss: 0.0032 - accuracy: 0.9996\n",
      "Epoch 42/50\n",
      "1008/1008 [==============================] - ETA: 17s - loss: 0.0043 - accuracy: 1.000 - ETA: 22s - loss: 0.0036 - accuracy: 1.000 - ETA: 22s - loss: 0.0034 - accuracy: 1.000 - ETA: 20s - loss: 0.0030 - accuracy: 1.000 - ETA: 19s - loss: 0.0029 - accuracy: 1.000 - ETA: 17s - loss: 0.0031 - accuracy: 1.000 - ETA: 16s - loss: 0.0030 - accuracy: 1.000 - ETA: 15s - loss: 0.0027 - accuracy: 1.000 - ETA: 14s - loss: 0.0025 - accuracy: 1.000 - ETA: 14s - loss: 0.0026 - accuracy: 1.000 - ETA: 14s - loss: 0.0025 - accuracy: 1.000 - ETA: 13s - loss: 0.0024 - accuracy: 1.000 - ETA: 12s - loss: 0.0023 - accuracy: 1.000 - ETA: 12s - loss: 0.0026 - accuracy: 1.000 - ETA: 11s - loss: 0.0026 - accuracy: 1.000 - ETA: 10s - loss: 0.0026 - accuracy: 1.000 - ETA: 9s - loss: 0.0026 - accuracy: 1.000 - ETA: 8s - loss: 0.0027 - accuracy: 1.00 - ETA: 8s - loss: 0.0027 - accuracy: 1.00 - ETA: 7s - loss: 0.0028 - accuracy: 1.00 - ETA: 7s - loss: 0.0027 - accuracy: 1.00 - ETA: 6s - loss: 0.0027 - accuracy: 1.00 - ETA: 5s - loss: 0.0027 - accuracy: 1.00 - ETA: 5s - loss: 0.0026 - accuracy: 1.00 - ETA: 4s - loss: 0.0026 - accuracy: 1.00 - ETA: 3s - loss: 0.0026 - accuracy: 1.00 - ETA: 3s - loss: 0.0026 - accuracy: 1.00 - ETA: 2s - loss: 0.0027 - accuracy: 1.00 - ETA: 1s - loss: 0.0027 - accuracy: 1.00 - ETA: 1s - loss: 0.0027 - accuracy: 1.00 - ETA: 0s - loss: 0.0027 - accuracy: 1.00 - 21s 21ms/step - loss: 0.0026 - accuracy: 1.0000\n",
      "Epoch 43/50\n",
      "1008/1008 [==============================] - ETA: 16s - loss: 0.0036 - accuracy: 1.000 - ETA: 17s - loss: 0.0024 - accuracy: 1.000 - ETA: 16s - loss: 0.0022 - accuracy: 1.000 - ETA: 15s - loss: 0.0019 - accuracy: 1.000 - ETA: 16s - loss: 0.0019 - accuracy: 1.000 - ETA: 17s - loss: 0.0019 - accuracy: 1.000 - ETA: 16s - loss: 0.0018 - accuracy: 1.000 - ETA: 15s - loss: 0.0020 - accuracy: 1.000 - ETA: 14s - loss: 0.0020 - accuracy: 1.000 - ETA: 13s - loss: 0.0019 - accuracy: 1.000 - ETA: 13s - loss: 0.0019 - accuracy: 1.000 - ETA: 12s - loss: 0.0019 - accuracy: 1.000 - ETA: 11s - loss: 0.0018 - accuracy: 1.000 - ETA: 11s - loss: 0.0019 - accuracy: 1.000 - ETA: 11s - loss: 0.0019 - accuracy: 1.000 - ETA: 10s - loss: 0.0019 - accuracy: 1.000 - ETA: 9s - loss: 0.0020 - accuracy: 1.000 - ETA: 8s - loss: 0.0020 - accuracy: 1.00 - ETA: 8s - loss: 0.0020 - accuracy: 1.00 - ETA: 7s - loss: 0.0021 - accuracy: 1.00 - ETA: 6s - loss: 0.0021 - accuracy: 1.00 - ETA: 6s - loss: 0.0020 - accuracy: 1.00 - ETA: 5s - loss: 0.0020 - accuracy: 1.00 - ETA: 5s - loss: 0.0020 - accuracy: 1.00 - ETA: 4s - loss: 0.0020 - accuracy: 1.00 - ETA: 3s - loss: 0.0019 - accuracy: 1.00 - ETA: 2s - loss: 0.0020 - accuracy: 1.00 - ETA: 2s - loss: 0.0020 - accuracy: 1.00 - ETA: 1s - loss: 0.0020 - accuracy: 1.00 - ETA: 0s - loss: 0.0020 - accuracy: 1.00 - ETA: 0s - loss: 0.0020 - accuracy: 1.00 - 21s 20ms/step - loss: 0.0020 - accuracy: 1.0000\n",
      "Epoch 44/50\n",
      "1008/1008 [==============================] - ETA: 35s - loss: 8.4227e-04 - accuracy: 1.000 - ETA: 26s - loss: 9.8684e-04 - accuracy: 1.000 - ETA: 23s - loss: 0.0013 - accuracy: 1.0000    - ETA: 20s - loss: 0.0018 - accuracy: 1.000 - ETA: 19s - loss: 0.0016 - accuracy: 1.000 - ETA: 17s - loss: 0.0022 - accuracy: 1.000 - ETA: 16s - loss: 0.0020 - accuracy: 1.000 - ETA: 15s - loss: 0.0019 - accuracy: 1.000 - ETA: 15s - loss: 0.0021 - accuracy: 1.000 - ETA: 15s - loss: 0.0021 - accuracy: 1.000 - ETA: 14s - loss: 0.0020 - accuracy: 1.000 - ETA: 13s - loss: 0.0020 - accuracy: 1.000 - ETA: 12s - loss: 0.0021 - accuracy: 1.000 - ETA: 12s - loss: 0.0020 - accuracy: 1.000 - ETA: 11s - loss: 0.0021 - accuracy: 1.000 - ETA: 10s - loss: 0.0020 - accuracy: 1.000 - ETA: 9s - loss: 0.0019 - accuracy: 1.000 - ETA: 9s - loss: 0.0019 - accuracy: 1.00 - ETA: 8s - loss: 0.0019 - accuracy: 1.00 - ETA: 7s - loss: 0.0020 - accuracy: 1.00 - ETA: 7s - loss: 0.0019 - accuracy: 1.00 - ETA: 6s - loss: 0.0019 - accuracy: 1.00 - ETA: 5s - loss: 0.0018 - accuracy: 1.00 - ETA: 5s - loss: 0.0018 - accuracy: 1.00 - ETA: 4s - loss: 0.0017 - accuracy: 1.00 - ETA: 3s - loss: 0.0018 - accuracy: 1.00 - ETA: 3s - loss: 0.0017 - accuracy: 1.00 - ETA: 2s - loss: 0.0018 - accuracy: 1.00 - ETA: 1s - loss: 0.0017 - accuracy: 1.00 - ETA: 1s - loss: 0.0017 - accuracy: 1.00 - ETA: 0s - loss: 0.0017 - accuracy: 1.00 - 21s 21ms/step - loss: 0.0018 - accuracy: 1.0000\n",
      "Epoch 45/50\n",
      "1008/1008 [==============================] - ETA: 18s - loss: 5.9007e-04 - accuracy: 1.000 - ETA: 25s - loss: 0.0022 - accuracy: 1.0000    - ETA: 26s - loss: 0.0017 - accuracy: 1.000 - ETA: 23s - loss: 0.0014 - accuracy: 1.000 - ETA: 21s - loss: 0.0013 - accuracy: 1.000 - ETA: 19s - loss: 0.0013 - accuracy: 1.000 - ETA: 18s - loss: 0.0013 - accuracy: 1.000 - ETA: 17s - loss: 0.0013 - accuracy: 1.000 - ETA: 16s - loss: 0.0013 - accuracy: 1.000 - ETA: 15s - loss: 0.0014 - accuracy: 1.000 - ETA: 15s - loss: 0.0016 - accuracy: 1.000 - ETA: 14s - loss: 0.0016 - accuracy: 1.000 - ETA: 13s - loss: 0.0017 - accuracy: 1.000 - ETA: 12s - loss: 0.0019 - accuracy: 1.000 - ETA: 11s - loss: 0.0019 - accuracy: 1.000 - ETA: 10s - loss: 0.0018 - accuracy: 1.000 - ETA: 10s - loss: 0.0018 - accuracy: 1.000 - ETA: 9s - loss: 0.0017 - accuracy: 1.000 - ETA: 8s - loss: 0.0017 - accuracy: 1.00 - ETA: 8s - loss: 0.0017 - accuracy: 1.00 - ETA: 7s - loss: 0.0016 - accuracy: 1.00 - ETA: 6s - loss: 0.0017 - accuracy: 1.00 - ETA: 5s - loss: 0.0018 - accuracy: 1.00 - ETA: 5s - loss: 0.0018 - accuracy: 1.00 - ETA: 4s - loss: 0.0017 - accuracy: 1.00 - ETA: 3s - loss: 0.0019 - accuracy: 1.00 - ETA: 3s - loss: 0.0018 - accuracy: 1.00 - ETA: 2s - loss: 0.0018 - accuracy: 1.00 - ETA: 1s - loss: 0.0018 - accuracy: 1.00 - ETA: 1s - loss: 0.0018 - accuracy: 1.00 - ETA: 0s - loss: 0.0018 - accuracy: 1.00 - 22s 22ms/step - loss: 0.0018 - accuracy: 1.0000\n",
      "Epoch 46/50\n"
     ]
    },
    {
     "name": "stdout",
     "output_type": "stream",
     "text": [
      "1008/1008 [==============================] - ETA: 17s - loss: 0.0024 - accuracy: 1.000 - ETA: 17s - loss: 0.0032 - accuracy: 1.000 - ETA: 16s - loss: 0.0026 - accuracy: 1.000 - ETA: 15s - loss: 0.0023 - accuracy: 1.000 - ETA: 15s - loss: 0.0021 - accuracy: 1.000 - ETA: 14s - loss: 0.0019 - accuracy: 1.000 - ETA: 15s - loss: 0.0018 - accuracy: 1.000 - ETA: 15s - loss: 0.0017 - accuracy: 1.000 - ETA: 14s - loss: 0.0017 - accuracy: 1.000 - ETA: 13s - loss: 0.0017 - accuracy: 1.000 - ETA: 13s - loss: 0.0017 - accuracy: 1.000 - ETA: 12s - loss: 0.0016 - accuracy: 1.000 - ETA: 11s - loss: 0.0017 - accuracy: 1.000 - ETA: 11s - loss: 0.0018 - accuracy: 1.000 - ETA: 10s - loss: 0.0019 - accuracy: 1.000 - ETA: 10s - loss: 0.0019 - accuracy: 1.000 - ETA: 9s - loss: 0.0018 - accuracy: 1.000 - ETA: 9s - loss: 0.0018 - accuracy: 1.00 - ETA: 8s - loss: 0.0017 - accuracy: 1.00 - ETA: 7s - loss: 0.0017 - accuracy: 1.00 - ETA: 7s - loss: 0.0016 - accuracy: 1.00 - ETA: 6s - loss: 0.0016 - accuracy: 1.00 - ETA: 5s - loss: 0.0016 - accuracy: 1.00 - ETA: 5s - loss: 0.0015 - accuracy: 1.00 - ETA: 4s - loss: 0.0015 - accuracy: 1.00 - ETA: 3s - loss: 0.0015 - accuracy: 1.00 - ETA: 3s - loss: 0.0014 - accuracy: 1.00 - ETA: 2s - loss: 0.0014 - accuracy: 1.00 - ETA: 1s - loss: 0.0015 - accuracy: 1.00 - ETA: 1s - loss: 0.0015 - accuracy: 1.00 - ETA: 0s - loss: 0.0015 - accuracy: 1.00 - 23s 23ms/step - loss: 0.0015 - accuracy: 1.0000\n",
      "Epoch 47/50\n",
      "1008/1008 [==============================] - ETA: 21s - loss: 0.0021 - accuracy: 1.000 - ETA: 21s - loss: 0.0020 - accuracy: 1.000 - ETA: 21s - loss: 0.0019 - accuracy: 1.000 - ETA: 20s - loss: 0.0031 - accuracy: 1.000 - ETA: 19s - loss: 0.0026 - accuracy: 1.000 - ETA: 18s - loss: 0.0024 - accuracy: 1.000 - ETA: 19s - loss: 0.0023 - accuracy: 1.000 - ETA: 19s - loss: 0.0022 - accuracy: 1.000 - ETA: 18s - loss: 0.0020 - accuracy: 1.000 - ETA: 16s - loss: 0.0019 - accuracy: 1.000 - ETA: 15s - loss: 0.0018 - accuracy: 1.000 - ETA: 14s - loss: 0.0017 - accuracy: 1.000 - ETA: 13s - loss: 0.0016 - accuracy: 1.000 - ETA: 13s - loss: 0.0016 - accuracy: 1.000 - ETA: 13s - loss: 0.0016 - accuracy: 1.000 - ETA: 12s - loss: 0.0015 - accuracy: 1.000 - ETA: 11s - loss: 0.0015 - accuracy: 1.000 - ETA: 10s - loss: 0.0015 - accuracy: 1.000 - ETA: 9s - loss: 0.0015 - accuracy: 1.000 - ETA: 8s - loss: 0.0017 - accuracy: 1.00 - ETA: 8s - loss: 0.0016 - accuracy: 1.00 - ETA: 7s - loss: 0.0016 - accuracy: 1.00 - ETA: 6s - loss: 0.0016 - accuracy: 1.00 - ETA: 5s - loss: 0.0016 - accuracy: 1.00 - ETA: 5s - loss: 0.0016 - accuracy: 1.00 - ETA: 4s - loss: 0.0015 - accuracy: 1.00 - ETA: 3s - loss: 0.0015 - accuracy: 1.00 - ETA: 2s - loss: 0.0015 - accuracy: 1.00 - ETA: 1s - loss: 0.0014 - accuracy: 1.00 - ETA: 1s - loss: 0.0014 - accuracy: 1.00 - ETA: 0s - loss: 0.0014 - accuracy: 1.00 - 25s 25ms/step - loss: 0.0014 - accuracy: 1.0000\n",
      "Epoch 48/50\n",
      "1008/1008 [==============================] - ETA: 21s - loss: 0.0013 - accuracy: 1.000 - ETA: 19s - loss: 9.2848e-04 - accuracy: 1.000 - ETA: 18s - loss: 0.0027 - accuracy: 1.0000    - ETA: 18s - loss: 0.0023 - accuracy: 1.000 - ETA: 17s - loss: 0.0019 - accuracy: 1.000 - ETA: 16s - loss: 0.0017 - accuracy: 1.000 - ETA: 19s - loss: 0.0019 - accuracy: 1.000 - ETA: 18s - loss: 0.0017 - accuracy: 1.000 - ETA: 17s - loss: 0.0016 - accuracy: 1.000 - ETA: 16s - loss: 0.0015 - accuracy: 1.000 - ETA: 15s - loss: 0.0015 - accuracy: 1.000 - ETA: 14s - loss: 0.0015 - accuracy: 1.000 - ETA: 14s - loss: 0.0016 - accuracy: 1.000 - ETA: 13s - loss: 0.0016 - accuracy: 1.000 - ETA: 12s - loss: 0.0018 - accuracy: 1.000 - ETA: 12s - loss: 0.0017 - accuracy: 1.000 - ETA: 11s - loss: 0.0018 - accuracy: 1.000 - ETA: 10s - loss: 0.0018 - accuracy: 1.000 - ETA: 9s - loss: 0.0017 - accuracy: 1.000 - ETA: 8s - loss: 0.0017 - accuracy: 1.00 - ETA: 7s - loss: 0.0019 - accuracy: 1.00 - ETA: 7s - loss: 0.0018 - accuracy: 1.00 - ETA: 6s - loss: 0.0018 - accuracy: 1.00 - ETA: 5s - loss: 0.0017 - accuracy: 1.00 - ETA: 4s - loss: 0.0017 - accuracy: 1.00 - ETA: 4s - loss: 0.0017 - accuracy: 1.00 - ETA: 3s - loss: 0.0017 - accuracy: 1.00 - ETA: 2s - loss: 0.0017 - accuracy: 1.00 - ETA: 1s - loss: 0.0016 - accuracy: 1.00 - ETA: 1s - loss: 0.0016 - accuracy: 1.00 - ETA: 0s - loss: 0.0016 - accuracy: 1.00 - 23s 23ms/step - loss: 0.0016 - accuracy: 1.0000\n",
      "Epoch 49/50\n",
      "1008/1008 [==============================] - ETA: 19s - loss: 0.0044 - accuracy: 1.000 - ETA: 18s - loss: 0.0027 - accuracy: 1.000 - ETA: 17s - loss: 0.0022 - accuracy: 1.000 - ETA: 16s - loss: 0.0024 - accuracy: 1.000 - ETA: 15s - loss: 0.0021 - accuracy: 1.000 - ETA: 14s - loss: 0.0022 - accuracy: 1.000 - ETA: 15s - loss: 0.0019 - accuracy: 1.000 - ETA: 15s - loss: 0.0020 - accuracy: 1.000 - ETA: 14s - loss: 0.0019 - accuracy: 1.000 - ETA: 14s - loss: 0.0018 - accuracy: 1.000 - ETA: 13s - loss: 0.0017 - accuracy: 1.000 - ETA: 12s - loss: 0.0017 - accuracy: 1.000 - ETA: 11s - loss: 0.0017 - accuracy: 1.000 - ETA: 10s - loss: 0.0016 - accuracy: 1.000 - ETA: 10s - loss: 0.0017 - accuracy: 1.000 - ETA: 9s - loss: 0.0017 - accuracy: 1.000 - ETA: 9s - loss: 0.0017 - accuracy: 1.00 - ETA: 8s - loss: 0.0016 - accuracy: 1.00 - ETA: 7s - loss: 0.0016 - accuracy: 1.00 - ETA: 7s - loss: 0.0016 - accuracy: 1.00 - ETA: 6s - loss: 0.0015 - accuracy: 1.00 - ETA: 5s - loss: 0.0015 - accuracy: 1.00 - ETA: 5s - loss: 0.0015 - accuracy: 1.00 - ETA: 4s - loss: 0.0015 - accuracy: 1.00 - ETA: 4s - loss: 0.0015 - accuracy: 1.00 - ETA: 3s - loss: 0.0015 - accuracy: 1.00 - ETA: 2s - loss: 0.0015 - accuracy: 1.00 - ETA: 2s - loss: 0.0014 - accuracy: 1.00 - ETA: 1s - loss: 0.0014 - accuracy: 1.00 - ETA: 0s - loss: 0.0014 - accuracy: 1.00 - ETA: 0s - loss: 0.0014 - accuracy: 1.00 - 20s 20ms/step - loss: 0.0014 - accuracy: 1.0000\n",
      "Epoch 50/50\n",
      "1008/1008 [==============================] - ETA: 16s - loss: 5.0505e-04 - accuracy: 1.000 - ETA: 17s - loss: 4.7876e-04 - accuracy: 1.000 - ETA: 17s - loss: 7.0552e-04 - accuracy: 1.000 - ETA: 20s - loss: 6.9307e-04 - accuracy: 1.000 - ETA: 18s - loss: 8.4382e-04 - accuracy: 1.000 - ETA: 17s - loss: 8.8621e-04 - accuracy: 1.000 - ETA: 16s - loss: 0.0012 - accuracy: 1.0000    - ETA: 15s - loss: 0.0014 - accuracy: 1.000 - ETA: 14s - loss: 0.0014 - accuracy: 1.000 - ETA: 13s - loss: 0.0013 - accuracy: 1.000 - ETA: 12s - loss: 0.0013 - accuracy: 1.000 - ETA: 11s - loss: 0.0014 - accuracy: 1.000 - ETA: 11s - loss: 0.0014 - accuracy: 1.000 - ETA: 11s - loss: 0.0014 - accuracy: 1.000 - ETA: 10s - loss: 0.0014 - accuracy: 1.000 - ETA: 9s - loss: 0.0013 - accuracy: 1.000 - ETA: 9s - loss: 0.0013 - accuracy: 1.00 - ETA: 8s - loss: 0.0013 - accuracy: 1.00 - ETA: 7s - loss: 0.0014 - accuracy: 1.00 - ETA: 7s - loss: 0.0013 - accuracy: 1.00 - ETA: 6s - loss: 0.0013 - accuracy: 1.00 - ETA: 5s - loss: 0.0013 - accuracy: 1.00 - ETA: 5s - loss: 0.0014 - accuracy: 1.00 - ETA: 4s - loss: 0.0013 - accuracy: 1.00 - ETA: 4s - loss: 0.0013 - accuracy: 1.00 - ETA: 3s - loss: 0.0013 - accuracy: 1.00 - ETA: 2s - loss: 0.0013 - accuracy: 1.00 - ETA: 2s - loss: 0.0013 - accuracy: 1.00 - ETA: 1s - loss: 0.0013 - accuracy: 1.00 - ETA: 0s - loss: 0.0012 - accuracy: 1.00 - ETA: 0s - loss: 0.0012 - accuracy: 1.00 - 20s 19ms/step - loss: 0.0014 - accuracy: 1.0000\n"
     ]
    }
   ],
   "source": [
    "sam = model.fit(X_train, Y_train, batch_size=32, epochs=50)"
   ]
  },
  {
   "cell_type": "code",
   "execution_count": 135,
   "metadata": {},
   "outputs": [
    {
     "data": {
      "image/png": "[encoded data removed]",
      "text/plain": [
       "<Figure size 432x288 with 1 Axes>"
      ]
     },
     "metadata": {
      "needs_background": "light"
     },
     "output_type": "display_data"
    }
   ],
   "source": [
    "plt.figure(figsize=(6, 4))\n",
    "plt.plot(sam.history['accuracy'], \"g--\", label=\"Accuracy of training data\")\n",
    "plt.plot(sam.history['loss'], \"r--\", label=\"Loss of training data\")\n",
    "plt.title('Model Accuracy and Loss')\n",
    "plt.ylabel('Accuracy and Loss')\n",
    "plt.xlabel('Training Epoch')\n",
    "plt.ylim(0)\n",
    "plt.legend()\n",
    "plt.show()"
   ]
  },
  {
   "cell_type": "code",
   "execution_count": 139,
   "metadata": {},
   "outputs": [
    {
     "name": "stdout",
     "output_type": "stream",
     "text": [
      "432/432 [==============================] - ETA:  - ETA:  - ETA:  - ETA:  - ETA:  - ETA:  - ETA:  - ETA:  - ETA:  - ETA:  - ETA:  - ETA:  - ETA:  - 2s 4ms/step\n"
     ]
    },
    {
     "data": {
      "text/plain": [
       "[0.438615341981252, 0.858134925365448]"
      ]
     },
     "execution_count": 139,
     "metadata": {},
     "output_type": "execute_result"
    }
   ],
   "source": [
    "model.evaluate(X_test, Y_test)"
   ]
  },
  {
   "cell_type": "markdown",
   "metadata": {},
   "source": [
    "# Testing Accuracy of 85.81 %"
   ]
  }
 ],
 "metadata": {
  "kernelspec": {
   "display_name": "Python 3",
   "language": "python",
   "name": "python3"
  },
  "language_info": {
   "codemirror_mode": {
    "name": "ipython",
    "version": 3
   },
   "file_extension": ".py",
   "mimetype": "text/x-python",
   "name": "python",
   "nbconvert_exporter": "python",
   "pygments_lexer": "ipython3",
   "version": "3.7.3"
  }
 },
 "nbformat": 4,
 "nbformat_minor": 2
}
